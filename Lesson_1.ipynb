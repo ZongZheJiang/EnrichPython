{
 "cells": [
  {
   "cell_type": "markdown",
   "id": "c4dbf6ca-2133-4b73-bc1b-4cb4ce836e78",
   "metadata": {},
   "source": [
    "# Lesson 1 - Basics of Python\n",
    "## Contents:\n",
    "1. Displaying Outputs Using \"print\"\n",
    "2. Common Data Types\n",
    "3. Operators\n",
    "4. Types of Loops "
   ]
  },
  {
   "cell_type": "markdown",
   "id": "9111194f-a271-4d0e-a256-9532bcb1427a",
   "metadata": {},
   "source": [
    "## Displaying Outputs Using \"print\n",
    "\n",
    "For python, to generate an output to be displayed, we use the \"print\" function.\n",
    "> print(\\<expression\\>)"
   ]
  },
  {
   "cell_type": "markdown",
   "id": "ec944fc7-fcb8-43e9-b61b-c898dcdba65b",
   "metadata": {},
   "source": [
    "Run the codes below to explore how the \"print\" function works!"
   ]
  },
  {
   "cell_type": "code",
   "execution_count": 5,
   "id": "77fc5e31-e313-41cd-bf8c-2660575a02e3",
   "metadata": {
    "scrolled": true
   },
   "outputs": [
    {
     "name": "stdout",
     "output_type": "stream",
     "text": [
      "Hello World!\n"
     ]
    }
   ],
   "source": [
    "print(\"Hello World!\")"
   ]
  },
  {
   "cell_type": "code",
   "execution_count": 6,
   "id": "e5f26ec0-7520-4598-ba0e-8c1674379821",
   "metadata": {
    "scrolled": true
   },
   "outputs": [
    {
     "name": "stdout",
     "output_type": "stream",
     "text": [
      "3\n"
     ]
    }
   ],
   "source": [
    "print(3)"
   ]
  },
  {
   "cell_type": "markdown",
   "id": "2b7663a4-9208-402b-9529-1115b51fddf3",
   "metadata": {},
   "source": [
    "## Common Data Types\n",
    "In python, there are many data types used to store data. Some of the common types are listed below.    |t |\n"
   ]
  },
  {
   "cell_type": "markdown",
   "id": "4853535f-8592-4471-a0b0-73b3abfcbde7",
   "metadata": {},
   "source": [
    "| **Types of Data** | **Python Type Name** | **Examples**                    |\n",
    "|-------------------|----------------------|---------------------------------|\n",
    "| Integers          | int                  | -1, 0, 2, 1000                  |\n",
    "| Strings           | str                  | \"hi\", \"1\", \"A\", \"I am a human.\" |\n",
    "| Boolean           | bool                 | True, False                     |\n",
    "| Decimal Floats    | float                | 0.12, 1.544, 2901.099902        |"
   ]
  },
  {
   "cell_type": "markdown",
   "id": "2d3b3153-5acf-49b4-ae1c-97dc7040620d",
   "metadata": {},
   "source": [
    "We can use the type() function to examine the data type of the data. "
   ]
  },
  {
   "cell_type": "code",
   "execution_count": 10,
   "id": "6450cd9e-83eb-4f12-85c6-5ac61bf5f507",
   "metadata": {
    "scrolled": true
   },
   "outputs": [
    {
     "name": "stdout",
     "output_type": "stream",
     "text": [
      "<class 'int'>\n",
      "<class 'str'>\n",
      "<class 'bool'>\n",
      "<class 'float'>\n"
     ]
    }
   ],
   "source": [
    "integer = 3\n",
    "strings = \"Hi!\"\n",
    "bool = True\n",
    "floats = 0.2398\n",
    "\n",
    "print(type(integer))\n",
    "print(type(strings))\n",
    "print(type(bool))\n",
    "print(type(floats))"
   ]
  },
  {
   "cell_type": "markdown",
   "id": "31a2e458-2231-4f50-ad2f-7cdd23efd837",
   "metadata": {},
   "source": [
    "## Operators\n",
    "Python uses many operators to evaluate expressions."
   ]
  },
  {
   "cell_type": "markdown",
   "id": "bd88ddf4-b387-4ce7-9f2c-accca743377b",
   "metadata": {},
   "source": [
    "### Assignment \n",
    "The \"=\" (equal) sign is used to assign a value to a variable. \n",
    "\n",
    "In the example below, we assign 5000 to the variable: income. We also assign 200 to the variable: expenditure."
   ]
  },
  {
   "cell_type": "code",
   "execution_count": 12,
   "id": "bab4f73d-f807-4b30-a9d5-58236762f8cb",
   "metadata": {},
   "outputs": [
    {
     "name": "stdout",
     "output_type": "stream",
     "text": [
      "5000\n",
      "200\n",
      "False\n"
     ]
    }
   ],
   "source": [
    "income = 5000\n",
    "expenditure = 200\n",
    "print(income)\n",
    "print(expenditure)\n",
    "\n",
    "savings = income - expenditure\n",
    "\n",
    "print(income <= expenditure)\n"
   ]
  },
  {
   "cell_type": "markdown",
   "id": "2a11394d-9a2d-4154-a41e-70c360a445e7",
   "metadata": {},
   "source": [
    "### Arithmatic \n",
    "Some operators are used to perform mathematical operations."
   ]
  },
  {
   "cell_type": "markdown",
   "id": "7c7140c5-b842-4ef8-8aa6-cde5aa3633b6",
   "metadata": {},
   "source": [
    "| **Operator** | **Meaning**               | **Example** |\r\n",
    "|--------------|---------------------------|-------------|\r\n",
    "| +            | Addition                  | a + b       |\r\n",
    "| -            | Subtraction               | a - b       |\r\n",
    "| *            | Multiplication            | a * b       |\r\n",
    "| /            | Division                  | a / b       |\r\n",
    "| //           | Floor Division (Quotient) | a // b      |\r\n",
    "| %            | Modulo (Remainder)        | a % b       |\r\n",
    "| **           | Exponential (Power)       | a ** b      |"
   ]
  },
  {
   "cell_type": "code",
   "execution_count": 13,
   "id": "c97de698-07e1-4030-a1cc-133c1519930e",
   "metadata": {},
   "outputs": [
    {
     "name": "stdout",
     "output_type": "stream",
     "text": [
      "3000\n",
      "1000\n",
      "2000000\n",
      "2.0\n",
      "2\n",
      "0\n",
      "4000000\n"
     ]
    }
   ],
   "source": [
    "a = 2000\n",
    "b = 1000\n",
    "print(a+b)\n",
    "print(a-b)\n",
    "print(a*b)\n",
    "print(a/b)\n",
    "print(a//b)\n",
    "print(a%b)\n",
    "print(a**2)"
   ]
  },
  {
   "cell_type": "markdown",
   "id": "aed22c20-3bef-483b-8d7d-b23fecd50bc3",
   "metadata": {},
   "source": [
    "#### Sample Code 1\n",
    "The code below allows us to use the floor division (//) to find the number of complete weeks in a month as well as the remaining days (remainder)."
   ]
  },
  {
   "cell_type": "code",
   "execution_count": 14,
   "id": "22483fc4-a899-490f-8c75-5b1f3a20d572",
   "metadata": {},
   "outputs": [
    {
     "name": "stdout",
     "output_type": "stream",
     "text": [
      "4\n",
      "3\n"
     ]
    }
   ],
   "source": [
    "num_days = 31\n",
    "print(num_days//7)\n",
    "print(num_days%7)"
   ]
  },
  {
   "cell_type": "markdown",
   "id": "e2d64f51-82bb-4fd8-ac59-da0953f4e225",
   "metadata": {},
   "source": [
    "#### Sample Code 2\n",
    "Say we have 35 people and we want to split them into groups of 6. The code below allows us to use floor division and modulo to find the number of complete groups and the remaining people that cannot form a group of 6. We will get 5 groups of 6 and 5 remainding people."
   ]
  },
  {
   "cell_type": "code",
   "execution_count": 15,
   "id": "229e4b8b-4433-479d-aa5d-ee0f7c4cb925",
   "metadata": {},
   "outputs": [
    {
     "name": "stdout",
     "output_type": "stream",
     "text": [
      "5\n",
      "5\n"
     ]
    }
   ],
   "source": [
    "people = 35\n",
    "print(people//6)\n",
    "print(people%6)"
   ]
  },
  {
   "cell_type": "markdown",
   "id": "79d05c31-1569-402d-a1db-993d207d2884",
   "metadata": {},
   "source": [
    "### Comparison\n",
    "Some operators are used to perform comparisons. Such comparisons are useful, especially in setting up conditions for loops, which we will cover in the later portion."
   ]
  },
  {
   "cell_type": "markdown",
   "id": "36de554d-4f9d-4cd1-b477-584df5e636bb",
   "metadata": {},
   "source": [
    "| **Comparison Operator** | **Meaning**              | **Example** |\r\n",
    "|-------------------------|--------------------------|-------------|\r\n",
    "| ==                      | Is Equal To              | c == d      |\r\n",
    "| !=                      | Is Not Equal To          | c != d      |\r\n",
    "| <                       | Less Than                | c < d       |\r\n",
    "| <=                      | Less Than or Equal To    | c <= d      |\r\n",
    "| >                       | Greater Than             | c > d       |\r\n",
    "| >=                      | Greater Than or Equal To | c >= d      |      |"
   ]
  },
  {
   "cell_type": "markdown",
   "id": "98684f30-9a32-491e-b4f2-3a9970361d9b",
   "metadata": {},
   "source": [
    "The result of the comparison is returned as a boolean value (True or False). "
   ]
  },
  {
   "cell_type": "code",
   "execution_count": 17,
   "id": "8a272a37-d484-459c-a383-6075873a464e",
   "metadata": {},
   "outputs": [
    {
     "name": "stdout",
     "output_type": "stream",
     "text": [
      "False\n",
      "True\n",
      "False\n",
      "False\n",
      "True\n",
      "True\n"
     ]
    }
   ],
   "source": [
    "c = 10\n",
    "d = 8\n",
    "\n",
    "print(c==d)\n",
    "print(c!=d)\n",
    "print(c<d)\n",
    "print(c<=d)\n",
    "print(c>d)\n",
    "print(c>=d)"
   ]
  },
  {
   "cell_type": "markdown",
   "id": "000effdb-8c19-4cad-92b7-8ed04f7cf1fc",
   "metadata": {},
   "source": [
    "## Types of Loops\n",
    "### Selection\n",
    "Selection statements allow the computer to make a choice based on a condition. One such statement is the if...else.\n",
    "\n",
    "if [condition]: <br>\n",
    "&nbsp; &nbsp; [sequence of statements] <br>\n",
    "elif [condition]:<br>\n",
    "&nbsp; &nbsp; [sequence of statements 2]<br>\n",
    "else:<br>\n",
    "&nbsp; &nbsp; [sequence of statements 3]"
   ]
  },
  {
   "cell_type": "markdown",
   "id": "6ca44005-44dc-4454-ab94-1ac64fcef5e1",
   "metadata": {},
   "source": [
    "#### Sample Code 3\n",
    "The code below compares num1 and num2. Based on the conditions given in the if, elif and else statements, the code will execute different print statements."
   ]
  },
  {
   "cell_type": "code",
   "execution_count": 18,
   "id": "dd1af2df-a354-49fd-887b-492de2dcfb92",
   "metadata": {},
   "outputs": [
    {
     "name": "stdout",
     "output_type": "stream",
     "text": [
      "Number 1 is bigger than number 2.\n"
     ]
    }
   ],
   "source": [
    "num1 = 100\n",
    "num2 = 50\n",
    "if num1 > num2:\n",
    "    print(\"Number 1 is bigger than number 2.\")\n",
    "elif num1 == num2:\n",
    "    print(\"Number 1 is equal to number 2.\")\n",
    "else:\n",
    "    print(\"Number 2 is bigger than number 1.\")\n",
    "    "
   ]
  },
  {
   "cell_type": "markdown",
   "id": "a8c3c9c8-6a5a-4c96-a4f6-97cce969a6e8",
   "metadata": {},
   "source": [
    "### Definite Iteration\n",
    "The for loop is used to loop a set of statements or actions for a fixed number of times. It is particularly useful if we know how many times we have to execute a set of statements. \n",
    "\n",
    "for i in range(start, end, step):<br>\n",
    "&nbsp; &nbsp; [sequence of statements]<br>\n",
    "\n",
    "**start**: starting number of the value i <br>\n",
    "**end**: ending + 1 number of the value i (example if we want the last value of i to be 5, we have to input 6 here.) <br>\n",
    "**step**: every \"how many\" numbers (example if step is 2, and we start from 1, we will take 1, 3, 5, 7, 9 and so on) <br>"
   ]
  },
  {
   "cell_type": "markdown",
   "id": "5400951c-78ff-4195-8c5e-993e51a64c8b",
   "metadata": {},
   "source": [
    "#### Sample Code 4\n",
    "\n",
    "The code only has 1 parameter for range. In this case, the single parameter will be taken as the end. The start will be taken as default 0 and step as 1."
   ]
  },
  {
   "cell_type": "code",
   "execution_count": 19,
   "id": "e2ccb4ba-1176-4439-ad83-9402eb24ee1f",
   "metadata": {},
   "outputs": [
    {
     "name": "stdout",
     "output_type": "stream",
     "text": [
      "0\n",
      "1\n",
      "2\n",
      "3\n"
     ]
    }
   ],
   "source": [
    "for i in range(4):\n",
    "    print(i)"
   ]
  },
  {
   "cell_type": "markdown",
   "id": "afed1497-d182-48d0-b2e8-064571dedf3d",
   "metadata": {},
   "source": [
    "#### Sample Code 5\n",
    "The code now has 2 parameters for range. In this case, the parameters will be taken as start and end. The step will be taken as default 1."
   ]
  },
  {
   "cell_type": "code",
   "execution_count": 20,
   "id": "64c04e39-175d-43a8-902f-6fc43e5ee38d",
   "metadata": {},
   "outputs": [
    {
     "name": "stdout",
     "output_type": "stream",
     "text": [
      "1\n",
      "2\n",
      "3\n",
      "4\n"
     ]
    }
   ],
   "source": [
    "for i in range(1,5):\n",
    "    print(i)"
   ]
  },
  {
   "cell_type": "markdown",
   "id": "2c289af6-808d-4e28-bb17-b066f254d0a3",
   "metadata": {},
   "source": [
    "#### Sample Code 6\n",
    "The code now has the full 3 parameters. In this case, the parameters will be taken as start, end and step respectively. It is possible to have negative step and print from largest number to smallest."
   ]
  },
  {
   "cell_type": "code",
   "execution_count": 21,
   "id": "e8e7ed69-2f1a-4ae7-890c-fc131c63f8fc",
   "metadata": {},
   "outputs": [
    {
     "name": "stdout",
     "output_type": "stream",
     "text": [
      "10\n",
      "8\n",
      "6\n",
      "4\n"
     ]
    }
   ],
   "source": [
    "for i in range(10,3,-2):\n",
    "    print(i)"
   ]
  },
  {
   "cell_type": "markdown",
   "id": "9022159b-6ad5-4b88-b0eb-6b3fce9b550a",
   "metadata": {},
   "source": [
    "#### Sample Code 7\n",
    "The code below is used to split people into groups. The code will output the number of groups and the number of people in each group. "
   ]
  },
  {
   "cell_type": "code",
   "execution_count": 23,
   "id": "23664a83-d67a-47a1-8054-ed0a16b63aa6",
   "metadata": {},
   "outputs": [
    {
     "name": "stdout",
     "output_type": "stream",
     "text": [
      "1 63\n",
      "You can form 63 groups of 1 people.\n",
      "3 21\n",
      "You can form 21 groups of 3 people.\n",
      "7 9\n",
      "You can form 9 groups of 7 people.\n",
      "9 7\n",
      "You can form 7 groups of 9 people.\n",
      "21 3\n",
      "You can form 3 groups of 21 people.\n",
      "63 1\n",
      "You can form 1 groups of 63 people.\n"
     ]
    }
   ],
   "source": [
    "people = 63\n",
    "for i in range(1, people+1):\n",
    "    remainder = people%i\n",
    "    if remainder == 0: \n",
    "        divisor = i\n",
    "        quotient = people//i\n",
    "        print(divisor, quotient)\n",
    "        print(\"You can form\", quotient, \"groups of\", divisor, \"people.\")"
   ]
  },
  {
   "cell_type": "markdown",
   "id": "ef827ee0-fc4a-4d09-b931-754ccc94ae37",
   "metadata": {},
   "source": [
    "### Conditional Iteration\n",
    "The while loop is an example of conditional iteration. It will continue to repeat itself as long as the condition given is met. Hence, it is important to set the correct condition to end the loop to prevent it from running indefinitely.\n",
    "\n",
    "while [condition]:<br>\n",
    "&nbsp; &nbsp; [sequence of statements]"
   ]
  },
  {
   "cell_type": "markdown",
   "id": "a8146abe-3672-4078-9cdc-ef0bb43f9727",
   "metadata": {},
   "source": [
    "#### Sample Code 8\n",
    "The code below has a variable counter. For every pass of the loop, the value of counter increases by 1. When the value reaches 5, the loop stops."
   ]
  },
  {
   "cell_type": "code",
   "execution_count": 24,
   "id": "ebd83377-8895-48d1-85fe-c4839e406147",
   "metadata": {},
   "outputs": [
    {
     "name": "stdout",
     "output_type": "stream",
     "text": [
      "1\n",
      "2\n",
      "3\n",
      "4\n",
      "5\n"
     ]
    }
   ],
   "source": [
    "counter = 0\n",
    "while counter < 5:\n",
    "    counter += 1\n",
    "    print(counter)  #This will print the counter\n",
    "    "
   ]
  },
  {
   "cell_type": "markdown",
   "id": "5bf1a1dc-bbe9-4821-86f3-b80d39ce1565",
   "metadata": {},
   "source": [
    "## Practice Questions"
   ]
  },
  {
   "cell_type": "markdown",
   "id": "aae9d462-24d0-431a-9f02-e9b51af1cab2",
   "metadata": {},
   "source": [
    "### Question 1\n",
    "Calculate the sum of 0 to 100 using loops (e.g. 0+1+2+3+4+...+100)."
   ]
  },
  {
   "cell_type": "code",
   "execution_count": 26,
   "id": "928e51b8-e583-4c53-8df2-2a96065f9284",
   "metadata": {},
   "outputs": [
    {
     "name": "stdout",
     "output_type": "stream",
     "text": [
      "5050\n"
     ]
    }
   ],
   "source": [
    "#FOR LOOP METHOD\n",
    "max = 100\n",
    "sum = 0\n",
    "for i in range(0, max+1):\n",
    "    sum += i\n",
    "print(sum)"
   ]
  },
  {
   "cell_type": "code",
   "execution_count": 29,
   "id": "f41f5ba6-b416-4c4e-97bd-2e3cf47074ff",
   "metadata": {},
   "outputs": [
    {
     "name": "stdout",
     "output_type": "stream",
     "text": [
      "5050\n"
     ]
    }
   ],
   "source": [
    "#WHILE LOOP METHOD\n",
    "counter = 0\n",
    "end = 100\n",
    "sum = 0\n",
    "while counter <= end:\n",
    "    sum += counter #sum = sum + counter\n",
    "    counter += 1 #counter = counter + 1\n",
    "print(sum)"
   ]
  },
  {
   "cell_type": "markdown",
   "id": "c3008f0c-7733-4b9c-8d96-4c8a400cd0e8",
   "metadata": {},
   "source": [
    "### Question 2\n",
    "Using if...else statement, complete the following question. If a number is even, subtract 1 from it. If a number is odd, add 1 to it."
   ]
  },
  {
   "cell_type": "code",
   "execution_count": 30,
   "id": "cea8221b-6b57-45cf-9b56-c2b051f54865",
   "metadata": {},
   "outputs": [
    {
     "name": "stdout",
     "output_type": "stream",
     "text": [
      "The new number is: 12\n"
     ]
    }
   ],
   "source": [
    "number = 11               #Given number\n",
    "if number%2 == 0:         #To find even, remainder = 0\n",
    "    number = number - 1   #Subtract 1 from even number\n",
    "elif number%2 == 1:       #To find odd, remainder = 1\n",
    "    number = number + 1   #Add 1 to the odd number\n",
    "print(\"The new number is:\", number)"
   ]
  },
  {
   "cell_type": "code",
   "execution_count": 31,
   "id": "5cdd81dd-9e22-4f12-b838-c4a1d7365e5d",
   "metadata": {},
   "outputs": [
    {
     "name": "stdout",
     "output_type": "stream",
     "text": [
      "The new number is: 11\n"
     ]
    }
   ],
   "source": [
    "number = 12               #Given number\n",
    "if number%2 == 0:         #To find even, remainder = 0\n",
    "    number = number - 1   #Subtract 1 from even number\n",
    "elif number%2 == 1:       #To find odd, remainder = 1\n",
    "    number = number + 1   #Add 1 to the odd number\n",
    "print(\"The new number is:\", number)"
   ]
  },
  {
   "cell_type": "markdown",
   "id": "a37b63ad-9e31-4f34-9121-1dd5a9b7076b",
   "metadata": {},
   "source": [
    "## Take-home Task (Optional)\n",
    "With 2 numbers given, for example 3 and 5.\n",
    "Find the product (multiply) of the 2 numbers, without using the mutiplication symbol.\n",
    "\n",
    "Hint: Use a loop to add the numbers the required number of times. (e.g. 3x5 = 15, so make a loop to execute\n",
    "3+3+3+3+3=15)"
   ]
  },
  {
   "cell_type": "code",
   "execution_count": null,
   "id": "0d83f69b-39e8-4d09-8bc5-d6c742999927",
   "metadata": {},
   "outputs": [],
   "source": []
  }
 ],
 "metadata": {
  "kernelspec": {
   "display_name": "Python 3 (ipykernel)",
   "language": "python",
   "name": "python3"
  },
  "language_info": {
   "codemirror_mode": {
    "name": "ipython",
    "version": 3
   },
   "file_extension": ".py",
   "mimetype": "text/x-python",
   "name": "python",
   "nbconvert_exporter": "python",
   "pygments_lexer": "ipython3",
   "version": "3.12.4"
  }
 },
 "nbformat": 4,
 "nbformat_minor": 5
}
