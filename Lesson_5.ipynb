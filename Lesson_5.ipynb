{
 "cells": [
  {
   "attachments": {},
   "cell_type": "markdown",
   "id": "86220714-121d-4db1-94d2-9c3215dffa35",
   "metadata": {},
   "source": [
    "## Lesson 5\n",
    "\n",
    "### Contents\n",
    "\n",
    "Final Project: Creating a game of 2048!\n",
    "\n",
    "### What is 2048?\n",
    "\n",
    "It is a game with a 4-by-4 grid, where the objective is to obtain the number 2048. Numbers 2 will randomly generate on any unoccupied block. User can swipe up, down, left or right to move blocks. When 2 blocks of the same number are next to each other after being swiped, they will combine into a bigger number."
   ]
  },
  {
   "cell_type": "markdown",
   "id": "6c93ae65-ef8a-4889-a8c3-5766c03f972e",
   "metadata": {},
   "source": [
    "### Step 1: Creating a Menu\n",
    "\n",
    "When the program is run, there should be a printout of the game and its rules before letting the user choose their move."
   ]
  },
  {
   "cell_type": "code",
   "execution_count": 7,
   "id": "5c5fe5b4-3440-4b56-b482-57075be16b02",
   "metadata": {},
   "outputs": [],
   "source": [
    "def introduction():\n",
    "    # TODO: Give a try in creating the introduction menu!\n",
    "    pass\n",
    "\n",
    "def main():\n",
    "    introduction()\n",
    "\n",
    "main()"
   ]
  },
  {
   "cell_type": "markdown",
   "id": "d6619210-0584-40b3-954f-0d7b1705a1c0",
   "metadata": {},
   "source": [
    "## Answer\n",
    "\n",
    "Do not scroll downward if you would still like to try out designing your introductory menu!"
   ]
  },
  {
   "cell_type": "code",
   "execution_count": 4,
   "id": "e7d104af-208d-484b-9ed9-ff9ee456f566",
   "metadata": {},
   "outputs": [
    {
     "name": "stdout",
     "output_type": "stream",
     "text": [
      "\n",
      "Welcome to 2048!\n",
      "\n",
      "Commands are as follows : \n",
      "'W' or 'w' : Move Up\n",
      "'S' or 's' : Move Down\n",
      "'A' or 'a' : Move Left\n",
      "'D' or 'd' : Move Right\n"
     ]
    }
   ],
   "source": [
    "def introduction():\n",
    "    print(\"\")\n",
    "    print(\"Welcome to 2048!\")\n",
    "    print(\"\")\n",
    "    print(\"Commands are as follows : \")\n",
    "    print(\"'W' or 'w' : Move Up\")\n",
    "    print(\"'S' or 's' : Move Down\")\n",
    "    print(\"'A' or 'a' : Move Left\")\n",
    "    print(\"'D' or 'd' : Move Right\")\n",
    "\n",
    "def main():\n",
    "    introduction()\n",
    "\n",
    "main()"
   ]
  },
  {
   "cell_type": "markdown",
   "id": "6af5283f-0e6f-4a98-828c-4d05fc9ac5c0",
   "metadata": {},
   "source": [
    "## Step 2: Creating the Game Board and print out the Game Board\n",
    "\n",
    "Now, we need to create two functions that creates a new game board when the user starts the game, and prints out the game board!"
   ]
  },
  {
   "cell_type": "code",
   "execution_count": 6,
   "id": "0ed5bf19-2503-4d70-b95e-5c41a2db8503",
   "metadata": {},
   "outputs": [
    {
     "name": "stdout",
     "output_type": "stream",
     "text": [
      "\n",
      "Welcome to 2048!\n",
      "\n",
      "Commands are as follows : \n",
      "'W' or 'w' : Move Up\n",
      "'S' or 's' : Move Down\n",
      "'A' or 'a' : Move Left\n",
      "'D' or 'd' : Move Right\n",
      "[0, 0, 0, 0]\n",
      "[0, 0, 0, 0]\n",
      "[0, 0, 0, 0]\n",
      "[0, 0, 0, 0]\n"
     ]
    }
   ],
   "source": [
    "def createGameBoard():\n",
    "    map = []\n",
    "    for i in range(4):\n",
    "        map.append([0, 0, 0, 0])\n",
    "    return map\n",
    "\n",
    "def printGameBoard(map):\n",
    "    for row in map:\n",
    "        print(row)\n",
    "    \n",
    "\n",
    "def main():\n",
    "    introduction()\n",
    "    map = createGameBoard()\n",
    "    printGameBoard(map)\n",
    "\n",
    "main()"
   ]
  },
  {
   "cell_type": "markdown",
   "id": "a5b74cd0-537e-47ed-97c0-1aeb8fea6995",
   "metadata": {},
   "source": [
    "## Step 3: Give the Users the ability to give commands\n",
    "\n",
    "We need to code in the function for the user to choose which direction to swipe the tiles! \n",
    "\n",
    "Hint: Since the user has unlimited times to choose which direction to swipe the tiles before they either win or lose, which loop should you use?"
   ]
  },
  {
   "cell_type": "code",
   "execution_count": 8,
   "id": "561fd0fa-919a-44de-b6aa-41e62590c188",
   "metadata": {},
   "outputs": [
    {
     "name": "stdout",
     "output_type": "stream",
     "text": [
      "\n",
      "Welcome to 2048!\n",
      "\n",
      "Commands are as follows : \n",
      "'W' or 'w' : Move Up\n",
      "'S' or 's' : Move Down\n",
      "'A' or 'a' : Move Left\n",
      "'D' or 'd' : Move Right\n",
      "[0, 0, 0, 0]\n",
      "[0, 0, 0, 0]\n",
      "[0, 0, 0, 0]\n",
      "[0, 0, 0, 0]\n"
     ]
    }
   ],
   "source": [
    "def main():\n",
    "    # TODO: Modify the main() function to give the user the ability to input commands!\n",
    "    introduction()\n",
    "    map = createGameBoard()\n",
    "    printGameBoard(map)\n",
    "        \n",
    "\n",
    "main()"
   ]
  },
  {
   "cell_type": "markdown",
   "id": "13f39ce7-cde0-467c-93f5-1d960027548e",
   "metadata": {},
   "source": [
    "## Answer"
   ]
  },
  {
   "cell_type": "code",
   "execution_count": 7,
   "id": "40ad5402-a88d-445b-91c7-158961708e50",
   "metadata": {},
   "outputs": [
    {
     "name": "stdout",
     "output_type": "stream",
     "text": [
      "\n",
      "Welcome to 2048!\n",
      "\n",
      "Commands are as follows : \n",
      "'W' or 'w' : Move Up\n",
      "'S' or 's' : Move Down\n",
      "'A' or 'a' : Move Left\n",
      "'D' or 'd' : Move Right\n",
      "[0, 0, 0, 0]\n",
      "[0, 0, 0, 0]\n",
      "[0, 0, 0, 0]\n",
      "[0, 0, 0, 0]\n"
     ]
    },
    {
     "ename": "KeyboardInterrupt",
     "evalue": "Interrupted by user",
     "output_type": "error",
     "traceback": [
      "\u001b[0;31m---------------------------------------------------------------------------\u001b[0m",
      "\u001b[0;31mKeyboardInterrupt\u001b[0m                         Traceback (most recent call last)",
      "Cell \u001b[0;32mIn[7], line 10\u001b[0m\n\u001b[1;32m      7\u001b[0m         \u001b[38;5;28mprint\u001b[39m(command \u001b[38;5;241m+\u001b[39m \u001b[38;5;124m\"\u001b[39m\u001b[38;5;124m received.\u001b[39m\u001b[38;5;124m\"\u001b[39m)\n\u001b[1;32m      8\u001b[0m         \u001b[38;5;28mprint\u001b[39m(\u001b[38;5;124m\"\u001b[39m\u001b[38;5;124m \u001b[39m\u001b[38;5;124m\"\u001b[39m)\n\u001b[0;32m---> 10\u001b[0m main()\n",
      "Cell \u001b[0;32mIn[7], line 6\u001b[0m, in \u001b[0;36mmain\u001b[0;34m()\u001b[0m\n\u001b[1;32m      4\u001b[0m \u001b[38;5;28;01mwhile\u001b[39;00m \u001b[38;5;28;01mTrue\u001b[39;00m:\n\u001b[1;32m      5\u001b[0m     printGameBoard(\u001b[38;5;28mmap\u001b[39m)\n\u001b[0;32m----> 6\u001b[0m     command \u001b[38;5;241m=\u001b[39m \u001b[38;5;28minput\u001b[39m(\u001b[38;5;124m\"\u001b[39m\u001b[38;5;124mPress the command : \u001b[39m\u001b[38;5;124m\"\u001b[39m)\n\u001b[1;32m      7\u001b[0m     \u001b[38;5;28mprint\u001b[39m(command \u001b[38;5;241m+\u001b[39m \u001b[38;5;124m\"\u001b[39m\u001b[38;5;124m received.\u001b[39m\u001b[38;5;124m\"\u001b[39m)\n\u001b[1;32m      8\u001b[0m     \u001b[38;5;28mprint\u001b[39m(\u001b[38;5;124m\"\u001b[39m\u001b[38;5;124m \u001b[39m\u001b[38;5;124m\"\u001b[39m)\n",
      "File \u001b[0;32m~/anaconda3/lib/python3.11/site-packages/ipykernel/kernelbase.py:1262\u001b[0m, in \u001b[0;36mKernel.raw_input\u001b[0;34m(self, prompt)\u001b[0m\n\u001b[1;32m   1260\u001b[0m     msg \u001b[38;5;241m=\u001b[39m \u001b[38;5;124m\"\u001b[39m\u001b[38;5;124mraw_input was called, but this frontend does not support input requests.\u001b[39m\u001b[38;5;124m\"\u001b[39m\n\u001b[1;32m   1261\u001b[0m     \u001b[38;5;28;01mraise\u001b[39;00m StdinNotImplementedError(msg)\n\u001b[0;32m-> 1262\u001b[0m \u001b[38;5;28;01mreturn\u001b[39;00m \u001b[38;5;28mself\u001b[39m\u001b[38;5;241m.\u001b[39m_input_request(\n\u001b[1;32m   1263\u001b[0m     \u001b[38;5;28mstr\u001b[39m(prompt),\n\u001b[1;32m   1264\u001b[0m     \u001b[38;5;28mself\u001b[39m\u001b[38;5;241m.\u001b[39m_parent_ident[\u001b[38;5;124m\"\u001b[39m\u001b[38;5;124mshell\u001b[39m\u001b[38;5;124m\"\u001b[39m],\n\u001b[1;32m   1265\u001b[0m     \u001b[38;5;28mself\u001b[39m\u001b[38;5;241m.\u001b[39mget_parent(\u001b[38;5;124m\"\u001b[39m\u001b[38;5;124mshell\u001b[39m\u001b[38;5;124m\"\u001b[39m),\n\u001b[1;32m   1266\u001b[0m     password\u001b[38;5;241m=\u001b[39m\u001b[38;5;28;01mFalse\u001b[39;00m,\n\u001b[1;32m   1267\u001b[0m )\n",
      "File \u001b[0;32m~/anaconda3/lib/python3.11/site-packages/ipykernel/kernelbase.py:1305\u001b[0m, in \u001b[0;36mKernel._input_request\u001b[0;34m(self, prompt, ident, parent, password)\u001b[0m\n\u001b[1;32m   1302\u001b[0m \u001b[38;5;28;01mexcept\u001b[39;00m \u001b[38;5;167;01mKeyboardInterrupt\u001b[39;00m:\n\u001b[1;32m   1303\u001b[0m     \u001b[38;5;66;03m# re-raise KeyboardInterrupt, to truncate traceback\u001b[39;00m\n\u001b[1;32m   1304\u001b[0m     msg \u001b[38;5;241m=\u001b[39m \u001b[38;5;124m\"\u001b[39m\u001b[38;5;124mInterrupted by user\u001b[39m\u001b[38;5;124m\"\u001b[39m\n\u001b[0;32m-> 1305\u001b[0m     \u001b[38;5;28;01mraise\u001b[39;00m \u001b[38;5;167;01mKeyboardInterrupt\u001b[39;00m(msg) \u001b[38;5;28;01mfrom\u001b[39;00m \u001b[38;5;28;01mNone\u001b[39;00m\n\u001b[1;32m   1306\u001b[0m \u001b[38;5;28;01mexcept\u001b[39;00m \u001b[38;5;167;01mException\u001b[39;00m:\n\u001b[1;32m   1307\u001b[0m     \u001b[38;5;28mself\u001b[39m\u001b[38;5;241m.\u001b[39mlog\u001b[38;5;241m.\u001b[39mwarning(\u001b[38;5;124m\"\u001b[39m\u001b[38;5;124mInvalid Message:\u001b[39m\u001b[38;5;124m\"\u001b[39m, exc_info\u001b[38;5;241m=\u001b[39m\u001b[38;5;28;01mTrue\u001b[39;00m)\n",
      "\u001b[0;31mKeyboardInterrupt\u001b[0m: Interrupted by user"
     ]
    }
   ],
   "source": [
    "def main():\n",
    "    introduction()\n",
    "    map = createGameBoard()\n",
    "    while True:\n",
    "        printGameBoard(map)\n",
    "        command = input(\"Press the command : \")\n",
    "        print(command + \" received.\")\n",
    "        print(\" \")\n",
    "\n",
    "main()"
   ]
  },
  {
   "cell_type": "markdown",
   "id": "ebf4f3ce-2542-4ad2-81f2-a13c9b655b04",
   "metadata": {},
   "source": [
    "## Step 5: Code in function to spawn a tile at random after every action\n",
    "\n",
    "recall that everytime the user swipes, a number 2 will spawn on a random unoccupied tile. We shall code that while using an external package called \"random\"!"
   ]
  },
  {
   "cell_type": "code",
   "execution_count": 26,
   "id": "4fd2d426-ac86-4395-956b-2a95b8ed0421",
   "metadata": {},
   "outputs": [],
   "source": [
    "import random\n",
    "\n",
    "def add_new_2(mat):\n",
    "\n",
    "   # choosing a random index for\n",
    "   # row and column.\n",
    "    r = random.randint(0, 3)\n",
    "    c = random.randint(0, 3)\n",
    "\n",
    "    # while loop will break as the\n",
    "    # random cell chosen will be empty\n",
    "    # (or contains zero)\n",
    "    while(mat[r][c] != 0):\n",
    "        r = random.randint(0, 3)\n",
    "        c = random.randint(0, 3)\n",
    "\n",
    "    # we will place a 2 at that empty\n",
    "    # random cell.\n",
    "    mat[r][c] = 2\n"
   ]
  },
  {
   "cell_type": "markdown",
   "id": "3d5f9956-25d0-4506-ae72-98fcec9d3721",
   "metadata": {},
   "source": [
    "## Step 6: Check if the game is over by checking if the board is full, AND there are no possible moves for the user"
   ]
  },
  {
   "cell_type": "code",
   "execution_count": 25,
   "id": "6a7714c8-fff3-47cd-b151-4e30a3cd5f65",
   "metadata": {},
   "outputs": [],
   "source": [
    "# function to get the current\n",
    "# state of game\n",
    "def get_current_state(mat):\n",
    "\n",
    "    # if any cell contains\n",
    "    # 2048 we have won\n",
    "    for i in range(4):\n",
    "        for j in range(4):\n",
    "            if(mat[i][j]== 2048):\n",
    "                return 'WON'\n",
    "\n",
    "    # if we are still left with\n",
    "    # atleast one empty cell\n",
    "    # game is not yet over\n",
    "    for i in range(4):\n",
    "        for j in range(4):\n",
    "            if(mat[i][j]== 0):\n",
    "                return 'GAME NOT OVER'\n",
    "\n",
    "    # or if no cell is empty now\n",
    "    # but if after any move left, right,\n",
    "    # up or down, if any two cells\n",
    "    # gets merged and create an empty\n",
    "    # cell then also game is not yet over\n",
    "    for i in range(3):\n",
    "        for j in range(3):\n",
    "            if(mat[i][j]== mat[i + 1][j] or mat[i][j]== mat[i][j + 1]):\n",
    "                return 'GAME NOT OVER'\n",
    "\n",
    "    for j in range(3):\n",
    "        if(mat[3][j]== mat[3][j + 1]):\n",
    "            return 'GAME NOT OVER'\n",
    "\n",
    "    for i in range(3):\n",
    "        if(mat[i][3]== mat[i + 1][3]):\n",
    "            return 'GAME NOT OVER'\n",
    "\n",
    "    # else we have lost the game\n",
    "    return 'LOST'"
   ]
  },
  {
   "cell_type": "markdown",
   "id": "3963af9e-b639-4a9c-a5eb-01f4b8121c45",
   "metadata": {},
   "source": [
    "## Step 7: Push all tiles to the direction according to the user input\n",
    "\n",
    "The tiles must all move in the direction of the user input.\n",
    "\n",
    "For example, if the user chooses to swipe left, the tiles must all slant to left."
   ]
  },
  {
   "cell_type": "code",
   "execution_count": 24,
   "id": "70a24268-9394-4a35-8843-5c4ff1554d82",
   "metadata": {},
   "outputs": [],
   "source": [
    "# function to compress the grid\n",
    "# after every step before and\n",
    "# after merging cells.\n",
    "def compress(mat):\n",
    "\n",
    "    # bool variable to determine\n",
    "    # any change happened or not\n",
    "    changed = False\n",
    "\n",
    "    # empty grid \n",
    "    new_mat = []\n",
    "\n",
    "    # with all cells empty\n",
    "    for i in range(4):\n",
    "        new_mat.append([0] * 4)\n",
    "        \n",
    "    # here we will shift entries\n",
    "    # of each cell to it's extreme\n",
    "    # left row by row\n",
    "    # loop to traverse rows\n",
    "    for i in range(4):\n",
    "        pos = 0\n",
    "\n",
    "        # loop to traverse each column\n",
    "        # in respective row\n",
    "        for j in range(4):\n",
    "            if(mat[i][j] != 0):\n",
    "                \n",
    "                # if cell is non empty then\n",
    "                # we will shift it's number to\n",
    "                # previous empty cell in that row\n",
    "                # denoted by pos variable\n",
    "                new_mat[i][pos] = mat[i][j]\n",
    "                \n",
    "                if(j != pos):\n",
    "                    changed = True\n",
    "                pos += 1\n",
    "\n",
    "    # returning new compressed matrix\n",
    "    # and the flag variable.\n",
    "    return new_mat, changed"
   ]
  },
  {
   "cell_type": "markdown",
   "id": "9b22460e-420f-4b78-a98a-2afa8de6bf98",
   "metadata": {},
   "source": [
    "## Step 8: Merge same cells after sliding the tiles to the direction of the user input\n",
    "\n",
    "Recall that after the user swipes left, the game will:\n",
    "1. Push all the tiles to the left\n",
    "2. Merge any cells that have the same value and are next to each other.\n",
    "\n",
    "Note that if the user swipes left or right, only the tiles with the same value AND are next to each other yhorizontall will merge (Left and Right). Tiles with the same value and are on top of each other will NOT merge."
   ]
  },
  {
   "cell_type": "code",
   "execution_count": 23,
   "id": "a90639c1-c16b-4150-89a5-d60fbae2af13",
   "metadata": {},
   "outputs": [],
   "source": [
    "# function to merge the cells\n",
    "# in matrix after compressing\n",
    "def merge(mat):\n",
    "    \n",
    "    changed = False\n",
    "    \n",
    "    for i in range(4):\n",
    "        for j in range(3):\n",
    "\n",
    "            # if current cell has same value as\n",
    "            # next cell in the row and they\n",
    "            # are non empty then\n",
    "            if(mat[i][j] == mat[i][j + 1] and mat[i][j] != 0):\n",
    "\n",
    "                # double current cell value and\n",
    "                # empty the next cell\n",
    "                mat[i][j] = mat[i][j] * 2\n",
    "                mat[i][j + 1] = 0\n",
    "\n",
    "                # make bool variable True indicating\n",
    "                # the new grid after merging is\n",
    "                # different.\n",
    "                changed = True\n",
    "\n",
    "    return mat, changed"
   ]
  },
  {
   "cell_type": "markdown",
   "id": "3b0b5312-4d5c-4503-86ec-e8e8aff10352",
   "metadata": {},
   "source": [
    "## Before we move on...\n",
    "\n",
    "We will have to code what happens when we either move up, down, left or right.\n",
    "\n",
    "We will first code what happens when the board moves left, but we can use this first code to do the rest:\n",
    "\n",
    "Move Right: Reverse the board, reuse the move left code, and reverse the board again.\\\n",
    "Move Up:    Transpose the board, reuse the move left code, and transpose the board again.\\\n",
    "Move Down:  Transpose and reverse the board, reuse the move left code, and reverse and transpose the board again.\\\n",
    "\n",
    "Transpose: the item in the 1st row and 2nd column swaps places with the item in the 2nd row and the 1st column, and so on...\n",
    "\n",
    "### We will start with coding the helper functions to reverse and transpose the matrix board."
   ]
  },
  {
   "cell_type": "markdown",
   "id": "5f869952-5610-4f9d-a280-5b3c4c2cc1d7",
   "metadata": {},
   "source": [
    "## Step 9: Helper function to reverse the matrix"
   ]
  },
  {
   "cell_type": "code",
   "execution_count": 19,
   "id": "53e1a135-3c2e-4f65-99b2-64b0836e2d2c",
   "metadata": {},
   "outputs": [],
   "source": [
    "# function to reverse the matrix\n",
    "# means reversing the content of\n",
    "# each row (reversing the sequence)\n",
    "def reverse(mat):\n",
    "    new_mat =[]\n",
    "    for i in range(4):\n",
    "        new_mat.append([])\n",
    "        for j in range(4):\n",
    "            new_mat[i].append(mat[i][3 - j])\n",
    "    return new_mat"
   ]
  },
  {
   "cell_type": "markdown",
   "id": "44ff9c71-1beb-42bf-8471-915a437884dd",
   "metadata": {},
   "source": [
    "## Step 10: Helper function to transpose the matrix"
   ]
  },
  {
   "cell_type": "code",
   "execution_count": 20,
   "id": "a6a528d4-93a5-406f-8934-e5d0caaac880",
   "metadata": {},
   "outputs": [],
   "source": [
    "# function to get the transpose\n",
    "# of matrix means interchanging\n",
    "# rows and column\n",
    "def transpose(mat):\n",
    "    new_mat = []\n",
    "    for i in range(4):\n",
    "        new_mat.append([])\n",
    "        for j in range(4):\n",
    "            new_mat[i].append(mat[j][i])\n",
    "    return new_mat"
   ]
  },
  {
   "cell_type": "markdown",
   "id": "72b29a17-323c-4f1c-96d0-540d2e4af51b",
   "metadata": {},
   "source": [
    "### Now, we will code the functions for moving up, down, left and right.\n",
    "\n",
    "## Step 11: Coding of the functions to move up, down, left and right"
   ]
  },
  {
   "cell_type": "code",
   "execution_count": 21,
   "id": "5386865d-16b8-4222-8ea0-4fddd1eb91cd",
   "metadata": {},
   "outputs": [],
   "source": [
    "# function to update the matrix\n",
    "# if we move / swipe left\n",
    "def move_left(grid):\n",
    "\n",
    "    # first compress the grid\n",
    "    new_grid, changed1 = compress(grid)\n",
    "\n",
    "    # then merge the cells.\n",
    "    new_grid, changed2 = merge(new_grid)\n",
    "    \n",
    "    changed = changed1 or changed2\n",
    "\n",
    "    # again compress after merging.\n",
    "    new_grid, temp = compress(new_grid)\n",
    "\n",
    "    # return new matrix and bool changed\n",
    "    # telling whether the grid is same\n",
    "    # or different\n",
    "    return new_grid, changed\n",
    "\n",
    "# function to update the matrix\n",
    "# if we move / swipe right\n",
    "def move_right(grid):\n",
    "\n",
    "    # to move right we just reverse\n",
    "    # the matrix \n",
    "    new_grid = reverse(grid)\n",
    "\n",
    "    # then move left\n",
    "    new_grid, changed = move_left(new_grid)\n",
    "\n",
    "    # then again reverse matrix will\n",
    "    # give us desired result\n",
    "    new_grid = reverse(new_grid)\n",
    "    return new_grid, changed\n",
    "\n",
    "# function to update the matrix\n",
    "# if we move / swipe up\n",
    "def move_up(grid):\n",
    "\n",
    "    # to move up we just take\n",
    "    # transpose of matrix\n",
    "    new_grid = transpose(grid)\n",
    "\n",
    "    # then move left (calling all\n",
    "    # included functions) then\n",
    "    new_grid, changed = move_left(new_grid)\n",
    "\n",
    "    # again take transpose will give\n",
    "    # desired results\n",
    "    new_grid = transpose(new_grid)\n",
    "    return new_grid, changed\n",
    "\n",
    "# function to update the matrix\n",
    "# if we move / swipe down\n",
    "def move_down(grid):\n",
    "\n",
    "    # to move down we take transpose\n",
    "    new_grid = transpose(grid)\n",
    "\n",
    "    # move right and then again\n",
    "    new_grid, changed = move_right(new_grid)\n",
    "\n",
    "    # take transpose will give desired\n",
    "    # results.\n",
    "    new_grid = transpose(new_grid)\n",
    "    return new_grid, changed\n",
    "\n",
    "# this file only contains all the logic\n",
    "# functions to be called in main function\n",
    "# present in the other file"
   ]
  },
  {
   "cell_type": "markdown",
   "id": "01aa2e37-061e-4344-8fc4-3d3e21bfe4ca",
   "metadata": {},
   "source": [
    "## Step 12: Assemble the main function to use all the helper functions "
   ]
  },
  {
   "cell_type": "code",
   "execution_count": 27,
   "id": "ed5a2055-e495-4795-82c2-2e01f4ec0ca3",
   "metadata": {},
   "outputs": [
    {
     "name": "stdout",
     "output_type": "stream",
     "text": [
      "\n",
      "Welcome to 2048!\n",
      "\n",
      "Commands are as follows : \n",
      "'W' or 'w' : Move Up\n",
      "'S' or 's' : Move Down\n",
      "'A' or 'a' : Move Left\n",
      "'D' or 'd' : Move Right\n",
      "[0, 0, 0, 0]\n",
      "[0, 0, 0, 0]\n",
      "[0, 0, 0, 0]\n",
      "[0, 0, 0, 0]\n"
     ]
    },
    {
     "name": "stdin",
     "output_type": "stream",
     "text": [
      "Press the command :  s\n"
     ]
    },
    {
     "name": "stdout",
     "output_type": "stream",
     "text": [
      "GAME NOT OVER\n",
      "[0, 0, 0, 0]\n",
      "[0, 0, 0, 0]\n",
      "[0, 0, 0, 2]\n",
      "[0, 0, 0, 0]\n"
     ]
    },
    {
     "name": "stdin",
     "output_type": "stream",
     "text": [
      "Press the command :  s\n"
     ]
    },
    {
     "name": "stdout",
     "output_type": "stream",
     "text": [
      "GAME NOT OVER\n",
      "[0, 0, 0, 2]\n",
      "[0, 0, 0, 0]\n",
      "[0, 0, 0, 0]\n",
      "[0, 0, 0, 2]\n"
     ]
    },
    {
     "name": "stdin",
     "output_type": "stream",
     "text": [
      "Press the command :  a\n"
     ]
    },
    {
     "name": "stdout",
     "output_type": "stream",
     "text": [
      "GAME NOT OVER\n",
      "[2, 0, 0, 0]\n",
      "[0, 0, 0, 0]\n",
      "[0, 2, 0, 0]\n",
      "[2, 0, 0, 0]\n"
     ]
    },
    {
     "name": "stdin",
     "output_type": "stream",
     "text": [
      "Press the command :  a\n"
     ]
    },
    {
     "name": "stdout",
     "output_type": "stream",
     "text": [
      "GAME NOT OVER\n",
      "[2, 0, 0, 0]\n",
      "[0, 0, 0, 0]\n",
      "[2, 2, 0, 0]\n",
      "[2, 0, 0, 0]\n"
     ]
    },
    {
     "name": "stdin",
     "output_type": "stream",
     "text": [
      "Press the command :  s\n"
     ]
    },
    {
     "name": "stdout",
     "output_type": "stream",
     "text": [
      "GAME NOT OVER\n",
      "[0, 0, 0, 2]\n",
      "[0, 0, 0, 0]\n",
      "[2, 0, 0, 0]\n",
      "[4, 2, 0, 0]\n"
     ]
    },
    {
     "name": "stdin",
     "output_type": "stream",
     "text": [
      "Press the command :  \n"
     ]
    },
    {
     "name": "stdout",
     "output_type": "stream",
     "text": [
      "Invalid Key Pressed\n",
      "[0, 0, 0, 2]\n",
      "[0, 0, 0, 0]\n",
      "[2, 0, 0, 0]\n",
      "[4, 2, 0, 0]\n"
     ]
    },
    {
     "ename": "KeyboardInterrupt",
     "evalue": "Interrupted by user",
     "output_type": "error",
     "traceback": [
      "\u001b[0;31m---------------------------------------------------------------------------\u001b[0m",
      "\u001b[0;31mKeyboardInterrupt\u001b[0m                         Traceback (most recent call last)",
      "Cell \u001b[0;32mIn[27], line 62\u001b[0m\n\u001b[1;32m     59\u001b[0m         \u001b[38;5;28;01melse\u001b[39;00m:\n\u001b[1;32m     60\u001b[0m             \u001b[38;5;28mprint\u001b[39m(\u001b[38;5;124m\"\u001b[39m\u001b[38;5;124mInvalid Key Pressed\u001b[39m\u001b[38;5;124m\"\u001b[39m)\n\u001b[0;32m---> 62\u001b[0m main()\n",
      "Cell \u001b[0;32mIn[27], line 6\u001b[0m, in \u001b[0;36mmain\u001b[0;34m()\u001b[0m\n\u001b[1;32m      4\u001b[0m \u001b[38;5;28;01mwhile\u001b[39;00m \u001b[38;5;28;01mTrue\u001b[39;00m:\n\u001b[1;32m      5\u001b[0m     printGameBoard(\u001b[38;5;28mmap\u001b[39m)\n\u001b[0;32m----> 6\u001b[0m     command \u001b[38;5;241m=\u001b[39m \u001b[38;5;28minput\u001b[39m(\u001b[38;5;124m\"\u001b[39m\u001b[38;5;124mPress the command : \u001b[39m\u001b[38;5;124m\"\u001b[39m)\n\u001b[1;32m      7\u001b[0m     \u001b[38;5;66;03m# we have to move up\u001b[39;00m\n\u001b[1;32m      8\u001b[0m     \u001b[38;5;28;01mif\u001b[39;00m(command \u001b[38;5;241m==\u001b[39m \u001b[38;5;124m'\u001b[39m\u001b[38;5;124mW\u001b[39m\u001b[38;5;124m'\u001b[39m \u001b[38;5;129;01mor\u001b[39;00m command \u001b[38;5;241m==\u001b[39m \u001b[38;5;124m'\u001b[39m\u001b[38;5;124mw\u001b[39m\u001b[38;5;124m'\u001b[39m):\n\u001b[1;32m      9\u001b[0m \n\u001b[1;32m     10\u001b[0m         \u001b[38;5;66;03m# call the move_up function\u001b[39;00m\n",
      "File \u001b[0;32m~/anaconda3/lib/python3.11/site-packages/ipykernel/kernelbase.py:1262\u001b[0m, in \u001b[0;36mKernel.raw_input\u001b[0;34m(self, prompt)\u001b[0m\n\u001b[1;32m   1260\u001b[0m     msg \u001b[38;5;241m=\u001b[39m \u001b[38;5;124m\"\u001b[39m\u001b[38;5;124mraw_input was called, but this frontend does not support input requests.\u001b[39m\u001b[38;5;124m\"\u001b[39m\n\u001b[1;32m   1261\u001b[0m     \u001b[38;5;28;01mraise\u001b[39;00m StdinNotImplementedError(msg)\n\u001b[0;32m-> 1262\u001b[0m \u001b[38;5;28;01mreturn\u001b[39;00m \u001b[38;5;28mself\u001b[39m\u001b[38;5;241m.\u001b[39m_input_request(\n\u001b[1;32m   1263\u001b[0m     \u001b[38;5;28mstr\u001b[39m(prompt),\n\u001b[1;32m   1264\u001b[0m     \u001b[38;5;28mself\u001b[39m\u001b[38;5;241m.\u001b[39m_parent_ident[\u001b[38;5;124m\"\u001b[39m\u001b[38;5;124mshell\u001b[39m\u001b[38;5;124m\"\u001b[39m],\n\u001b[1;32m   1265\u001b[0m     \u001b[38;5;28mself\u001b[39m\u001b[38;5;241m.\u001b[39mget_parent(\u001b[38;5;124m\"\u001b[39m\u001b[38;5;124mshell\u001b[39m\u001b[38;5;124m\"\u001b[39m),\n\u001b[1;32m   1266\u001b[0m     password\u001b[38;5;241m=\u001b[39m\u001b[38;5;28;01mFalse\u001b[39;00m,\n\u001b[1;32m   1267\u001b[0m )\n",
      "File \u001b[0;32m~/anaconda3/lib/python3.11/site-packages/ipykernel/kernelbase.py:1305\u001b[0m, in \u001b[0;36mKernel._input_request\u001b[0;34m(self, prompt, ident, parent, password)\u001b[0m\n\u001b[1;32m   1302\u001b[0m \u001b[38;5;28;01mexcept\u001b[39;00m \u001b[38;5;167;01mKeyboardInterrupt\u001b[39;00m:\n\u001b[1;32m   1303\u001b[0m     \u001b[38;5;66;03m# re-raise KeyboardInterrupt, to truncate traceback\u001b[39;00m\n\u001b[1;32m   1304\u001b[0m     msg \u001b[38;5;241m=\u001b[39m \u001b[38;5;124m\"\u001b[39m\u001b[38;5;124mInterrupted by user\u001b[39m\u001b[38;5;124m\"\u001b[39m\n\u001b[0;32m-> 1305\u001b[0m     \u001b[38;5;28;01mraise\u001b[39;00m \u001b[38;5;167;01mKeyboardInterrupt\u001b[39;00m(msg) \u001b[38;5;28;01mfrom\u001b[39;00m \u001b[38;5;28;01mNone\u001b[39;00m\n\u001b[1;32m   1306\u001b[0m \u001b[38;5;28;01mexcept\u001b[39;00m \u001b[38;5;167;01mException\u001b[39;00m:\n\u001b[1;32m   1307\u001b[0m     \u001b[38;5;28mself\u001b[39m\u001b[38;5;241m.\u001b[39mlog\u001b[38;5;241m.\u001b[39mwarning(\u001b[38;5;124m\"\u001b[39m\u001b[38;5;124mInvalid Message:\u001b[39m\u001b[38;5;124m\"\u001b[39m, exc_info\u001b[38;5;241m=\u001b[39m\u001b[38;5;28;01mTrue\u001b[39;00m)\n",
      "\u001b[0;31mKeyboardInterrupt\u001b[0m: Interrupted by user"
     ]
    }
   ],
   "source": [
    "def main():\n",
    "    introduction()\n",
    "    map = createGameBoard()\n",
    "    while True:\n",
    "        printGameBoard(map)\n",
    "        command = input(\"Press the command : \")\n",
    "        # we have to move up\n",
    "        if(command == 'W' or command == 'w'):\n",
    "    \n",
    "            # call the move_up function\n",
    "            map, flag = move_up(map)\n",
    "    \n",
    "            # get the current state and print it\n",
    "            status = get_current_state(map)\n",
    "            print(status)\n",
    "    \n",
    "            # if game not over then continue\n",
    "            # and add a new two\n",
    "            if(status == 'GAME NOT OVER'):\n",
    "                add_new_2(map)\n",
    "    \n",
    "            # else break the loop \n",
    "            else:\n",
    "                break\n",
    "    \n",
    "        # the above process will be followed\n",
    "        # in case of each type of move\n",
    "        # below\n",
    "    \n",
    "        # to move down\n",
    "        elif(command == 'S' or command == 's'):\n",
    "            map, flag = move_down(map)\n",
    "            status = get_current_state(map)\n",
    "            print(status)\n",
    "            if(status == 'GAME NOT OVER'):\n",
    "                add_new_2(map)\n",
    "            else:\n",
    "                break\n",
    "    \n",
    "        # to move left\n",
    "        elif(command == 'A' or command == 'a'):\n",
    "            map, flag = move_left(map)\n",
    "            status = get_current_state(map)\n",
    "            print(status)\n",
    "            if(status == 'GAME NOT OVER'):\n",
    "                add_new_2(map)\n",
    "            else:\n",
    "                break\n",
    "    \n",
    "        # to move right\n",
    "        elif(command == 'D' or command == 'd'):\n",
    "            map, flag = move_right(map)\n",
    "            status = get_current_state(map)\n",
    "            print(status)\n",
    "            if(status == 'GAME NOT OVER'):\n",
    "                add_new_2(map)\n",
    "            else:\n",
    "                break\n",
    "        else:\n",
    "            print(\"Invalid Key Pressed\")\n",
    "\n",
    "main()\n",
    "\n",
    "\n",
    "\n"
   ]
  },
  {
   "cell_type": "markdown",
   "id": "89fab948-b03a-4472-8708-3c4137d84e0f",
   "metadata": {},
   "source": [
    "## And we are done!\n",
    "\n",
    "Based on the 5 weeks of lessons, we have successfully coded out our first game!\n",
    "\n",
    "I hope that you had fun <3"
   ]
  }
 ],
 "metadata": {
  "kernelspec": {
   "display_name": "Python 3 (ipykernel)",
   "language": "python",
   "name": "python3"
  },
  "language_info": {
   "codemirror_mode": {
    "name": "ipython",
    "version": 3
   },
   "file_extension": ".py",
   "mimetype": "text/x-python",
   "name": "python",
   "nbconvert_exporter": "python",
   "pygments_lexer": "ipython3",
   "version": "3.11.5"
  }
 },
 "nbformat": 4,
 "nbformat_minor": 5
}
