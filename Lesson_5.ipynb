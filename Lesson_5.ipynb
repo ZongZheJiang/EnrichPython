{
 "cells": [
  {
   "attachments": {},
   "cell_type": "markdown",
   "id": "86220714-121d-4db1-94d2-9c3215dffa35",
   "metadata": {},
   "source": [
    "## Lesson 5\n",
    "\n",
    "### Contents\n",
    "\n",
    "Final Project: Creating a game of 2048!\n",
    "\n",
    "### What is 2048?\n",
    "\n",
    "It is a game with a 4-by-4 grid, where the objective is to obtain the number 2048. Numbers 2 will randomly generate on any unoccupied block. User can swipe up, down, left or right to move blocks. When 2 blocks of the same number are next to each other after being swiped, they will combine into a bigger number."
   ]
  },
  {
   "cell_type": "code",
   "execution_count": null,
   "id": "926e1338-7d46-4d7b-9960-b45033760639",
   "metadata": {},
   "outputs": [],
   "source": []
  },
  {
   "cell_type": "markdown",
   "id": "6c93ae65-ef8a-4889-a8c3-5766c03f972e",
   "metadata": {},
   "source": [
    "### Step 1: Creating a Menu\n",
    "\n",
    "When the program is run, there should be a printout of the game and its rules before letting the user choose their move."
   ]
  },
  {
   "cell_type": "code",
   "execution_count": 7,
   "id": "5c5fe5b4-3440-4b56-b482-57075be16b02",
   "metadata": {},
   "outputs": [],
   "source": [
    "def introduction():\n",
    "    # TODO: Give a try in creating the introduction menu!\n",
    "    pass\n",
    "\n",
    "def main():\n",
    "    introduction()\n",
    "\n",
    "main()"
   ]
  },
  {
   "cell_type": "markdown",
   "id": "d6619210-0584-40b3-954f-0d7b1705a1c0",
   "metadata": {},
   "source": [
    "## Answer\n",
    "\n",
    "Do not scroll downward if you would still like to try out designing your introductory menu!"
   ]
  },
  {
   "cell_type": "code",
   "execution_count": 4,
   "id": "e7d104af-208d-484b-9ed9-ff9ee456f566",
   "metadata": {},
   "outputs": [
    {
     "name": "stdout",
     "output_type": "stream",
     "text": [
      "\n",
      "Welcome to 2048!\n",
      "\n",
      "Commands are as follows : \n",
      "'W' or 'w' : Move Up\n",
      "'S' or 's' : Move Down\n",
      "'A' or 'a' : Move Left\n",
      "'D' or 'd' : Move Right\n"
     ]
    }
   ],
   "source": [
    "def introduction():\n",
    "    print(\"\")\n",
    "    print(\"Welcome to 2048!\")\n",
    "    print(\"\")\n",
    "    print(\"Commands are as follows : \")\n",
    "    print(\"'W' or 'w' : Move Up\")\n",
    "    print(\"'S' or 's' : Move Down\")\n",
    "    print(\"'A' or 'a' : Move Left\")\n",
    "    print(\"'D' or 'd' : Move Right\")\n",
    "\n",
    "def main():\n",
    "    introduction()\n",
    "\n",
    "main()"
   ]
  },
  {
   "cell_type": "markdown",
   "id": "6af5283f-0e6f-4a98-828c-4d05fc9ac5c0",
   "metadata": {},
   "source": [
    "## Step 2: Creating the Game Board and print out the Game Board\n",
    "\n",
    "Now, we need to create two functions that creates a new game board when the user starts the game, and prints out the game board!"
   ]
  },
  {
   "cell_type": "code",
   "execution_count": 10,
   "id": "0ed5bf19-2503-4d70-b95e-5c41a2db8503",
   "metadata": {},
   "outputs": [
    {
     "name": "stdout",
     "output_type": "stream",
     "text": [
      "[0, 0, 0, 0]\n",
      "[0, 0, 0, 0]\n",
      "[0, 0, 0, 0]\n",
      "[0, 0, 0, 0]\n"
     ]
    }
   ],
   "source": [
    "def createGameBoard():\n",
    "    map = []\n",
    "    for i in range(4):\n",
    "        map.append([0, 0, 0, 0])\n",
    "    return map\n",
    "\n",
    "def printGameBoard(map):\n",
    "    for row in map:\n",
    "        print(row)\n",
    "    \n",
    "\n",
    "def main():\n",
    "    introduction()\n",
    "    map = createGameBoard()\n",
    "    printGameBoard(map)\n",
    "\n",
    "main()"
   ]
  },
  {
   "cell_type": "code",
   "execution_count": null,
   "id": "e8275ff4-532b-46f8-87d3-66f4de1d9a8c",
   "metadata": {},
   "outputs": [],
   "source": []
  }
 ],
 "metadata": {
  "kernelspec": {
   "display_name": "Python 3 (ipykernel)",
   "language": "python",
   "name": "python3"
  },
  "language_info": {
   "codemirror_mode": {
    "name": "ipython",
    "version": 3
   },
   "file_extension": ".py",
   "mimetype": "text/x-python",
   "name": "python",
   "nbconvert_exporter": "python",
   "pygments_lexer": "ipython3",
   "version": "3.11.5"
  }
 },
 "nbformat": 4,
 "nbformat_minor": 5
}
