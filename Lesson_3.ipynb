{
 "cells": [
  {
   "cell_type": "markdown",
   "id": "83addc69-c1f3-4156-bb6b-d55e755fe810",
   "metadata": {},
   "source": [
    "# Lesson 3\n",
    "## Contents\n",
    "1. Solution to Week 2 Take-home Assignment\n",
    "2. Functions with Modules\n",
    "3. Further Understanding of Functions"
   ]
  },
  {
   "cell_type": "markdown",
   "id": "6bf4f1ea-296b-4969-a039-ad07830ff294",
   "metadata": {},
   "source": [
    "## Take-home Task Solution\n",
    "### Part 1\n",
    "Design a function that takes in 2 inputs: starting number and ending number.\n",
    "\n",
    "The function will return the square of each number within the range and store it in a list.\n",
    "\n",
    "Example: \n",
    "If starting = 2 and ending = 6, the function will return a list:\n",
    "\n",
    "[4, 9, 16, 25, 36]\n",
    "\n",
    "which are the squares of each of the values from 2 to 6. \n",
    "\n",
    "### Part 2\n",
    "Design another function that takes the list from Part 1 and returns the sum of the items in the list.\n",
    "\n",
    "Example:\n",
    "Sum = 4 + 9 + 16 + 25 + 36 = 90"
   ]
  },
  {
   "cell_type": "code",
   "execution_count": 1,
   "id": "8f7c7fa1-99ff-47c4-80bb-6e108b3256d8",
   "metadata": {},
   "outputs": [],
   "source": [
    "#Part 1\n",
    "def squares(start, end):\n",
    "    result = []\n",
    "    for i in range(start, end+1):\n",
    "        square = i**2\n",
    "        result.append(square)\n",
    "    return result\n",
    "\n",
    "#Part 2\n",
    "def sums(result):\n",
    "    sum = 0\n",
    "    for value in result:\n",
    "        sum = sum + value    #sum += value\n",
    "    return sum"
   ]
  },
  {
   "cell_type": "code",
   "execution_count": 7,
   "id": "0193faf7-9a84-4ee0-925f-b5ddb9860344",
   "metadata": {},
   "outputs": [
    {
     "name": "stdout",
     "output_type": "stream",
     "text": [
      "Enter starting number:  -3\n",
      "Enter ending number:  2\n"
     ]
    },
    {
     "name": "stdout",
     "output_type": "stream",
     "text": [
      "[9, 4, 1, 0, 1, 4]\n",
      "\n",
      "19\n"
     ]
    }
   ],
   "source": [
    "start = int(input(\"Enter starting number: \"))\n",
    "end = int(input(\"Enter ending number: \"))\n",
    "#Part 1\n",
    "result = squares(start, end)\n",
    "print(result)\n",
    "print()\n",
    "\n",
    "#Part 2\n",
    "sum = sums(result)\n",
    "print(sum)\n"
   ]
  },
  {
   "cell_type": "markdown",
   "id": "b4ebe54a-739e-4a64-b3c6-30c15feeba09",
   "metadata": {},
   "source": [
    "### Assumptions\n",
    "To make our code work, we had to make some assumptions, as with almost any python code. What are some assumptions that we have made?\n",
    "\n",
    "1. The user will always input only whole numbers.\n",
    "2. The user understands what is required of him (what to input, what this programme does)."
   ]
  },
  {
   "cell_type": "markdown",
   "id": "45bacc31-6f8e-4ea9-86f5-56b7ef63d44d",
   "metadata": {},
   "source": [
    "## Functions with Modules\n",
    "Modules are similar to code libraries. They are files containing a set of functions that you wish to use in your own code. Python has some built-in modules that we can explore today!"
   ]
  },
  {
   "cell_type": "markdown",
   "id": "d0f49405-5295-4109-aa58-9e0871305636",
   "metadata": {},
   "source": [
    "### Time & Datetime Modules\n",
    "[Datetime Module Python Info](https://docs.python.org/3/library/datetime.html#module-datetime)\n",
    "\n",
    "[Time Module Python Info](https://docs.python.org/3/library/time.html#module-time)"
   ]
  },
  {
   "cell_type": "code",
   "execution_count": 1,
   "id": "bd387d4b-4b62-43cb-bc02-b55566f0174a",
   "metadata": {},
   "outputs": [
    {
     "name": "stdout",
     "output_type": "stream",
     "text": [
      "Enter the time in hours:  0\n",
      "Enter the time in minutes:  0\n",
      "Enter the time in seconds:  2\n"
     ]
    },
    {
     "name": "stdout",
     "output_type": "stream",
     "text": [
      "Bzzzzt! Time is up!\n"
     ]
    }
   ],
   "source": [
    "import time\n",
    "import datetime\n",
    "\n",
    "\n",
    "def countdown(h, m, s):\n",
    "    total_seconds = h*3600 + m*60 + s\n",
    "    while total_seconds > 0:\n",
    "        timer = datetime.timedelta(seconds = total_seconds)\n",
    "        print(timer, end=\"\\r\")\n",
    "        time.sleep(1)\n",
    "        total_seconds -= 1\n",
    "    print(\"Bzzzzt! Time is up!\")\n",
    "\n",
    "h = int(input(\"Enter the time in hours: \"))\n",
    "m = int(input(\"Enter the time in minutes: \"))\n",
    "s = int(input(\"Enter the time in seconds: \"))\n",
    "countdown(h,m,s)\n"
   ]
  },
  {
   "cell_type": "markdown",
   "id": "3dce5502-edd8-4f94-8ae6-e341a91af35f",
   "metadata": {},
   "source": [
    "### Random Module\n",
    "[Random Module Python Info](https://docs.python.org/3/library/random.html#module-random)"
   ]
  },
  {
   "cell_type": "code",
   "execution_count": 15,
   "id": "7a691a73-5aee-426d-bdd4-52d8245ec1c6",
   "metadata": {},
   "outputs": [
    {
     "name": "stdout",
     "output_type": "stream",
     "text": [
      "7\n"
     ]
    }
   ],
   "source": [
    "import random\n",
    "print(random.randint(0,10)) #Both start and end parameters are inclusive"
   ]
  },
  {
   "cell_type": "markdown",
   "id": "787ca49a-7bd2-43e8-aa3e-755bb6561782",
   "metadata": {},
   "source": [
    "### Exercise 1\n",
    "Using the randint function from the random module, create a code that:\n",
    "\n",
    "1. Asks user if he wants a 4D number or Toto numbers (use 1 for 4D and 2 for Toto)\n",
    "2. Based on the user's selection, generate the random numbers and provide the output.\n",
    "- For 4D: The number should be from 0000 to 9999\n",
    "- For Toto: The programme should provide six numbers from 1 to 49. (Assume ordinary bet)"
   ]
  },
  {
   "cell_type": "code",
   "execution_count": null,
   "id": "8a492180-e0b1-41cc-bb27-f05c3a258e64",
   "metadata": {},
   "outputs": [],
   "source": []
  },
  {
   "cell_type": "markdown",
   "id": "6140f4d9-dbb8-4880-a6fd-4cfd4290c3a8",
   "metadata": {},
   "source": [
    "### Exercise 1 (Extension)\n",
    "You might have realised that it is possible for the programme to generate the same number more than once in the same Toto betslip. Let's try to modify the code so that each number only appears once in a single betslip. \n",
    "\n",
    "**Hint:** How about storing the numbers that have been generated in a list. For each subsequent number generated, check if it is already in the list."
   ]
  },
  {
   "cell_type": "code",
   "execution_count": null,
   "id": "e9337718-66bb-4b25-9206-1b76cb2bbf38",
   "metadata": {},
   "outputs": [],
   "source": []
  },
  {
   "cell_type": "markdown",
   "id": "e2a5beb6-96b5-4103-b095-e029e1c24cc0",
   "metadata": {},
   "source": [
    "## Further Understanding of Functions\n",
    "Functions can be used as a collection, not just singly. In the code to solve complex problems, many functions work together to solve the problem or provide application.\n",
    "\n",
    "For example, a simple library programme would require functions that do specific operations such as:\n",
    "1. Return books\n",
    "2. Loan books\n",
    "3. Register and check membership\n",
    "4. Pay fines"
   ]
  },
  {
   "cell_type": "markdown",
   "id": "bdc4383e-ef5f-4626-93e7-14b21eaedf01",
   "metadata": {},
   "source": [
    "### Exercise 2\n",
    "Create an automatic teller machine (ATM) programme for users to use. The starting value in the bank account should be initialised to $1000. The user should be allowed to perform as many transactions as he or she wishes. \n",
    "\n",
    "The menu should give users the following options:\n",
    "1. Deposit\n",
    "2. Withdrawal\n",
    "3. Check Balance\n",
    "4. Quit\n",
    "\n",
    "- For deposit, user should be prompted to input how much he or she is depositing into the account.\n",
    "- For withdrawal, user should be prompted to input how much he or she is withdrawing out of the account. Do not allow the user to overdraw. (If the account has only $10 the user cannot withdraw more than that.)\n",
    "- The programme should display the current balance after each transaction before providing the user the menu to choose from again.\n",
    "- After the user selects quit, the programme should print a \"Thank you!\" message. \n",
    "\n",
    "\n",
    "**Hint**\n",
    "\n",
    "Separate functions can be created for:\n",
    "1. Deposit\n",
    "2. Withdrawal\n",
    "3. Check Balance\n",
    "4. Update Balance\n",
    "5. Display Menu and Process User Selected Option"
   ]
  },
  {
   "cell_type": "code",
   "execution_count": 31,
   "id": "9bba5043-bb1a-43ca-b06d-97095e19f52a",
   "metadata": {},
   "outputs": [
    {
     "name": "stdout",
     "output_type": "stream",
     "text": [
      "Welcome to this ATM!\n",
      "Select one of the options below:\n",
      "1. Deposit\n",
      "2. Withdrawal\n",
      "3. Check Balance\n",
      "4. Quit\n"
     ]
    },
    {
     "name": "stdout",
     "output_type": "stream",
     "text": [
      "Enter option:  3\n"
     ]
    },
    {
     "name": "stdout",
     "output_type": "stream",
     "text": [
      "Your current balance is: 1000.00\n",
      "\n",
      "Select one of the options below:\n",
      "1. Deposit\n",
      "2. Withdrawal\n",
      "3. Check Balance\n",
      "4. Quit\n"
     ]
    },
    {
     "name": "stdout",
     "output_type": "stream",
     "text": [
      "Enter option:  1\n",
      "Enter deposit amount:  700\n"
     ]
    },
    {
     "name": "stdout",
     "output_type": "stream",
     "text": [
      "Your current balance is: 1700.00\n",
      "\n",
      "Select one of the options below:\n",
      "1. Deposit\n",
      "2. Withdrawal\n",
      "3. Check Balance\n",
      "4. Quit\n"
     ]
    },
    {
     "name": "stdout",
     "output_type": "stream",
     "text": [
      "Enter option:  2\n",
      "Enter withdrawal amount:  2000\n"
     ]
    },
    {
     "name": "stdout",
     "output_type": "stream",
     "text": [
      "Unable to withdraw. Amount to withdraw exceeds amount in account.\n",
      "Your current balance is: 1700.00\n",
      "\n",
      "Select one of the options below:\n",
      "1. Deposit\n",
      "2. Withdrawal\n",
      "3. Check Balance\n",
      "4. Quit\n"
     ]
    },
    {
     "name": "stdout",
     "output_type": "stream",
     "text": [
      "Enter option:  2\n",
      "Enter withdrawal amount:  500\n"
     ]
    },
    {
     "name": "stdout",
     "output_type": "stream",
     "text": [
      "Your current balance is: 1200.00\n",
      "\n",
      "Select one of the options below:\n",
      "1. Deposit\n",
      "2. Withdrawal\n",
      "3. Check Balance\n",
      "4. Quit\n"
     ]
    },
    {
     "name": "stdout",
     "output_type": "stream",
     "text": [
      "Enter option:  4\n"
     ]
    },
    {
     "name": "stdout",
     "output_type": "stream",
     "text": [
      "\n",
      "Thank you for banking with us!\n"
     ]
    }
   ],
   "source": [
    "def deposit(balance, amount): #this function deposits an amount of money into balance \n",
    "    balance += amount\n",
    "    return balance\n",
    "\n",
    "\n",
    "def withdrawal(balance, amount): #this function removes the amount of money from the balance\n",
    "    if amount > balance:\n",
    "        print(\"Unable to withdraw. Amount to withdraw exceeds amount in account.\")\n",
    "    else:\n",
    "        balance -= amount\n",
    "    return balance\n",
    "\n",
    "\n",
    "def check_balance(balance): #this function should print out the balance\n",
    "    print(\"Your current balance is: {:.2f}\".format(balance))\n",
    "\n",
    "\n",
    "def displaymenu():\n",
    "    print(\"Select one of the options below:\")\n",
    "    print(\"1. Deposit\")\n",
    "    print(\"2. Withdrawal\")\n",
    "    print(\"3. Check Balance\")\n",
    "    print(\"4. Quit\")\n",
    "\n",
    "\n",
    "\n",
    "def main():\n",
    "    balance = 1000\n",
    "    print(\"Welcome to this ATM!\")\n",
    "    proceed = True\n",
    "    while proceed == True:\n",
    "        displaymenu()\n",
    "        choice = int(input(\"Enter option: \"))\n",
    "        while choice not in [1,2,3,4]:\n",
    "            print(\"Invalid choice!\")\n",
    "            choice = int(input(\"Enter option: \"))\n",
    "        if choice == 1:\n",
    "            amount = float(input(\"Enter deposit amount: \"))\n",
    "            balance = deposit(balance, amount)\n",
    "            check_balance(balance)\n",
    "        elif choice == 2:\n",
    "            amount = float(input(\"Enter withdrawal amount: \"))\n",
    "            balance = withdrawal(balance, amount)\n",
    "            check_balance(balance)\n",
    "        elif choice == 3:\n",
    "            check_balance(balance)\n",
    "        elif choice == 4:\n",
    "            proceed = False\n",
    "        print()\n",
    "    print(\"Thank you for banking with us!\")\n",
    "main()"
   ]
  },
  {
   "cell_type": "markdown",
   "id": "76b3e4ab-3c85-4474-8556-3b99f3e6ea42",
   "metadata": {},
   "source": [
    "## Take-home Assignment\n",
    "\n",
    "Using the ATM code that you have created, add a **money transfer** functionality to the code.\n",
    "\n",
    "The function should:\n",
    "1. Ask user for the bank account number to transfer to\n",
    "2. Ask user for the amount to transfer\n",
    "3. Display a message indicating successful transfer\n",
    "4. Display current balance at the end\n",
    "\n",
    "With the added function, the code should still work for other functions like deposit, withdrawal, etc. \n",
    "\n",
    "\n",
    "**Hints**:\n",
    "- Copy your existing code into a new cell to add in the new function\n",
    "- The new function can tap on the existing withdrawal function (since a transfer is like a withdrawal)"
   ]
  },
  {
   "attachments": {
    "dd3b6bd8-f4a7-4021-b380-2044ac6f13bc.png": {
     "image/png": "[encoded data removed]"
    }
   },
   "cell_type": "markdown",
   "id": "0a9d5922-dec2-448f-af08-9b1d1f1e6fac",
   "metadata": {},
   "source": [
    "![image.png](attachment:dd3b6bd8-f4a7-4021-b380-2044ac6f13bc.png)"
   ]
  },
  {
   "cell_type": "code",
   "execution_count": null,
   "id": "35e50f4b-02b1-45a2-b9fc-cbc09a615cf1",
   "metadata": {},
   "outputs": [],
   "source": [
    "#Copy existing code here"
   ]
  },
  {
   "cell_type": "code",
   "execution_count": null,
   "id": "2732058a-ed47-4a46-b33a-c5d1f9608d74",
   "metadata": {},
   "outputs": [],
   "source": [
    "def deposit(balance, amount): #this function deposits an amount of money into balance \n",
    "    balance += amount\n",
    "    return balance\n",
    "\n",
    "\n",
    "def withdrawal(balance, amount): #this function removes the amount of money from the balance\n",
    "    if amount > balance:\n",
    "        print(\"Unable to withdraw. Amount to withdraw exceeds amount in account.\")\n",
    "    else:\n",
    "        balance -= amount\n",
    "    return balance\n",
    "\n",
    "\n",
    "def check_balance(balance): #this function should print out the balance\n",
    "    print(\"Your current balance is: {:.2f}\".format(balance))\n",
    "\n",
    "\n",
    "def transfer(balance): #transfer uses the same concept as withdrawal, involving the removal of money from the account\n",
    "    print(\"Interbank Transfer System\")\n",
    "    bankaccount = int(input(\"Enter bank account to transfer to: \"))\n",
    "    amount = float(input(\"Enter amount to transfer: \"))\n",
    "    balance = withdrawal(balance, amount) #We can make use of the existing function to help us\n",
    "    print(\"Amount transferred successfully!\")\n",
    "    return balance\n",
    "\n",
    "\n",
    "def displaymenu():\n",
    "    print(\"Select one of the options below:\")\n",
    "    print(\"1. Deposit\")\n",
    "    print(\"2. Withdrawal\")\n",
    "    print(\"3. Check Balance\")\n",
    "    print(\"4. Transfer Money\")\n",
    "    print(\"5. Quit\")\n",
    "\n",
    "\n",
    "\n",
    "def main():\n",
    "    balance = 1000\n",
    "    print(\"Welcome to this ATM!\")\n",
    "    proceed = True\n",
    "    while proceed == True:\n",
    "        displaymenu()\n",
    "        choice = int(input(\"Enter option: \"))\n",
    "        while choice not in [1,2,3,4,5]:\n",
    "            print(\"Invalid choice!\")\n",
    "            choice = int(input(\"Enter option: \"))\n",
    "        if choice == 1:\n",
    "            amount = float(input(\"Enter deposit amount: \"))\n",
    "            balance = deposit(balance, amount)\n",
    "            check_balance(balance)\n",
    "        elif choice == 2:\n",
    "            amount = float(input(\"Enter withdrawal amount: \"))\n",
    "            balance = withdrawal(balance, amount)\n",
    "            check_balance(balance)\n",
    "        elif choice == 3:\n",
    "            check_balance(balance)\n",
    "        elif choice == 4:\n",
    "            balance = transfer(balance)\n",
    "            check_balance(balance)\n",
    "        elif choice == 5:\n",
    "            proceed = False\n",
    "        print()\n",
    "    print(\"Thank you for banking with us!\")\n",
    "main()"
   ]
  },
  {
   "cell_type": "code",
   "execution_count": null,
   "id": "e7104fda",
   "metadata": {},
   "outputs": [],
   "source": [
    "def setConversionRate():\n",
    "    pass\n",
    "\n",
    "def displaymenu():\n",
    "    print(\"Select one of the options below:\")\n",
    "    print(\"1. Set Conversion Rate\")\n",
    "    print(\"2. Convert SGD to USD\")\n",
    "    print(\"3. Convert USD to SGD\")\n",
    "    print(\"4. Quit\")\n",
    "\n",
    "\n",
    "\n",
    "def main():\n",
    "    print(\"Welcome to this currency converter!\")\n",
    "    proceed = True\n",
    "    while proceed == True:\n",
    "        displaymenu()\n",
    "\n",
    "        #Records User Input \n",
    "        choice = int(input(\"Enter option: \"))\n",
    "\n",
    "        # If invalid User Input, tells user about the error and lets them try again\n",
    "        while choice not in [1,2,3,4]:\n",
    "            print(\"Invalid choice!\")\n",
    "            choice = int(input(\"Enter option: \"))\n",
    "\n",
    "        # If User Input is valid, carry out the respective functions that the User requested\n",
    "        if choice == 1:\n",
    "            setConversionRate()\n",
    "        elif choice == 2:\n",
    "            pass\n",
    "        elif choice == 3:\n",
    "            pass\n",
    "        elif choice == 4:\n",
    "            proceed = False\n",
    "        print()\n",
    "    print(\"Thank you for banking with us!\")\n",
    "main()"
   ]
  }
 ],
 "metadata": {
  "kernelspec": {
   "display_name": "Python 3 (ipykernel)",
   "language": "python",
   "name": "python3"
  },
  "language_info": {
   "codemirror_mode": {
    "name": "ipython",
    "version": 3
   },
   "file_extension": ".py",
   "mimetype": "text/x-python",
   "name": "python",
   "nbconvert_exporter": "python",
   "pygments_lexer": "ipython3",
   "version": "3.12.4"
  }
 },
 "nbformat": 4,
 "nbformat_minor": 5
}
