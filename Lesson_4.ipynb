{
 "cells": [
  {
   "cell_type": "markdown",
   "id": "3814fd9b-2a87-4b3a-b018-bb974eb0aa8e",
   "metadata": {},
   "source": [
    "# Lesson 4\n",
    "\n",
    "## Contents\n",
    "\n",
    "1. Creating Menus\n",
    "2. Working on a Currency Converter Program"
   ]
  },
  {
   "cell_type": "markdown",
   "id": "2d5b7b86-aa5f-478c-870b-a7548e5a49dc",
   "metadata": {},
   "source": [
    "## Creating Menus\n",
    "\n",
    "Menus can be created by printing instructions, before giving the User the chance to input their response."
   ]
  },
  {
   "cell_type": "code",
   "execution_count": 2,
   "id": "75e199c1-971c-4f74-b182-1748dc80c264",
   "metadata": {},
   "outputs": [
    {
     "name": "stdout",
     "output_type": "stream",
     "text": [
      "Select one of the options below:\n",
      "1. Set Conversion Rate\n",
      "2. Convert SGD to USD\n",
      "3. Convert USD to SGD\n",
      "4. Quit\n"
     ]
    },
    {
     "name": "stdout",
     "output_type": "stream",
     "text": [
      "Input your choice:  1\n"
     ]
    },
    {
     "name": "stdout",
     "output_type": "stream",
     "text": [
      "Your choice was 1\n"
     ]
    }
   ],
   "source": [
    "# Function that defines the menu to be printed\n",
    "def displayMenu():\n",
    "    print(\"Select one of the options below:\")\n",
    "    print(\"1. Set Conversion Rate\")\n",
    "    print(\"2. Convert SGD to USD\")\n",
    "    print(\"3. Convert USD to SGD\")\n",
    "    print(\"4. Quit\")\n",
    "\n",
    "# main() denotes the primary line of code that the program will run when this code block is ran\n",
    "def main():\n",
    "    # Calls the previously coded function to display the menu\n",
    "    displayMenu()\n",
    "\n",
    "    # Lets the User input their choice. Note that inputs are of type String.\n",
    "    choice = input(\"Input your choice: \")\n",
    "    print(\"Your choice was \" + choice)\n",
    "\n",
    "    \n",
    "\n",
    "main()"
   ]
  },
  {
   "cell_type": "markdown",
   "id": "58b6d447-b866-43d0-8c1f-727e03a128f7",
   "metadata": {},
   "source": [
    "## However, the menu is only displayed once.\n",
    "\n",
    "For the program to work, the menu needs to reset after every input.\n",
    "\n",
    "To do so, the displayMenu() function must be nested in a while loop."
   ]
  },
  {
   "cell_type": "code",
   "execution_count": 4,
   "id": "e5f87b61-a7b3-44c4-b5a1-14b13b5d8564",
   "metadata": {},
   "outputs": [
    {
     "name": "stdout",
     "output_type": "stream",
     "text": [
      "Select one of the options below:\n",
      "1. Set Conversion Rate\n",
      "2. Convert SGD to USD\n",
      "3. Convert USD to SGD\n",
      "4. Quit\n"
     ]
    },
    {
     "name": "stdout",
     "output_type": "stream",
     "text": [
      "Input your choice:  1\n"
     ]
    },
    {
     "name": "stdout",
     "output_type": "stream",
     "text": [
      "Your choice was 1\n",
      "Select one of the options below:\n",
      "1. Set Conversion Rate\n",
      "2. Convert SGD to USD\n",
      "3. Convert USD to SGD\n",
      "4. Quit\n"
     ]
    },
    {
     "name": "stdout",
     "output_type": "stream",
     "text": [
      "Input your choice:  4\n"
     ]
    },
    {
     "name": "stdout",
     "output_type": "stream",
     "text": [
      "Your choice was 4\n"
     ]
    }
   ],
   "source": [
    "def displayMenu():\n",
    "    print(\"Select one of the options below:\")\n",
    "    print(\"1. Set Conversion Rate\")\n",
    "    print(\"2. Convert SGD to USD\")\n",
    "    print(\"3. Convert USD to SGD\")\n",
    "    print(\"4. Quit\")\n",
    "\n",
    "def main():\n",
    "    # Nest the entire code block into a while loop\n",
    "    while True:\n",
    "        displayMenu()\n",
    "        choice = input(\"Input your choice: \")\n",
    "        print(\"Your choice was \" + choice)\n",
    "        # Escapes the loop if the user decides to quit the program\n",
    "        if choice == '4':\n",
    "            break\n",
    "\n",
    "    \n",
    "\n",
    "main()"
   ]
  },
  {
   "cell_type": "markdown",
   "id": "b174872a-cae6-432d-8436-5b33def6bdef",
   "metadata": {},
   "source": [
    "## Complete the Menu\n",
    "\n",
    "Now, we add in the branches for choices 1, 2 and 3.\n",
    "\n",
    "We will also account for situations where the user inputs something other than 1, 2, 3 or 4 by asking the user to input their response again. (This is also known as error handling.)"
   ]
  },
  {
   "cell_type": "code",
   "execution_count": 7,
   "id": "ad61f09e-5072-4cef-90d8-ec6d16173f45",
   "metadata": {},
   "outputs": [
    {
     "name": "stdout",
     "output_type": "stream",
     "text": [
      "Select one of the options below:\n",
      "1. Set Conversion Rate\n",
      "2. Convert SGD to USD\n",
      "3. Convert USD to SGD\n",
      "4. Quit\n"
     ]
    },
    {
     "name": "stdout",
     "output_type": "stream",
     "text": [
      "Input your choice:  4\n"
     ]
    },
    {
     "name": "stdout",
     "output_type": "stream",
     "text": [
      "Your choice was 4\n",
      "Exiting...\n"
     ]
    }
   ],
   "source": [
    "# Challenging: Use this code to code out the program\n",
    "def displayMenu():\n",
    "    print(\"Select one of the options below:\")\n",
    "    print(\"1. Set Conversion Rate\")\n",
    "    print(\"2. Convert SGD to USD\")\n",
    "    print(\"3. Convert USD to SGD\")\n",
    "    print(\"4. Quit\")\n",
    "\n",
    "def main():\n",
    "    while True:\n",
    "        displayMenu()\n",
    "        choice = input(\"Input your choice: \")\n",
    "        print(\"Your choice was \" + choice)\n",
    "\n",
    "        # If input is not 1, 2, 3 or 4, prompts the user to try again\n",
    "        if choice not in ['1', '2', '3', '4']:\n",
    "            print(\"Invalid Input! Please try again.\")\n",
    "            choice = input(\"Input your choice: \")\n",
    "\n",
    "        # Else, run the functions as stated by the menu\n",
    "        elif choice == '1':\n",
    "            pass\n",
    "            # TODO: Code function to Set Conversion Rate\n",
    "        \n",
    "        elif choice == '2':\n",
    "            pass\n",
    "            # TODO: Code function to Convert SGD to USD\n",
    "        \n",
    "        elif choice == '3': \n",
    "            pass\n",
    "            # TODO: Code function to Convert USD to SGD\n",
    "        \n",
    "        elif choice == '4':\n",
    "            print(\"Exiting...\")\n",
    "            break\n",
    "\n",
    "main()"
   ]
  },
  {
   "cell_type": "markdown",
   "id": "4b48e96b-2dc8-4887-a403-c173cbf51342",
   "metadata": {},
   "source": [
    "## Task 1\n",
    "\n",
    "### Code the 3 functions that were left blank above.\n",
    "\n",
    "#### Easy: Use the Partially-filled code below.\n",
    "\n",
    "#### Challenging: Use the starting code above.\n",
    "\n",
    "Hint 1: You might want the user to input the conversion rate from SGD to USD, and then store the inputted value somewhere in the program.\n",
    "\n",
    "Hint 2: Take note that inputs are strings by default. You will need to convert them into either integers or floats if the program intends the user to input numbers. \n",
    "\n",
    "Hint 3: Instead of coding within the main() function, it would be advised to define additional functions, and call these functions within the main() function."
   ]
  },
  {
   "cell_type": "markdown",
   "id": "e1c97524-25d5-400a-9f87-e30b24910c35",
   "metadata": {},
   "source": [
    "\n",
    "\n",
    "\n",
    "\n",
    "## Partially-filled code\n",
    "\n",
    "Use the code block below if you find the above portion challenging."
   ]
  },
  {
   "cell_type": "code",
   "execution_count": 9,
   "id": "1a35a523-a297-4b13-8843-21a7bf56ecbf",
   "metadata": {},
   "outputs": [
    {
     "name": "stdout",
     "output_type": "stream",
     "text": [
      "Select one of the options below:\n",
      "1. Set Conversion Rate\n",
      "2. Convert SGD to USD\n",
      "3. Convert USD to SGD\n",
      "4. Quit\n"
     ]
    },
    {
     "name": "stdout",
     "output_type": "stream",
     "text": [
      "Input your choice:  4\n"
     ]
    },
    {
     "name": "stdout",
     "output_type": "stream",
     "text": [
      "Your choice was 4\n",
      "Exiting...\n"
     ]
    }
   ],
   "source": [
    "def setConversionRate():\n",
    "    return 0\n",
    "    # TODO: Code function to Set Conversion Rate\n",
    "\n",
    "def convertSGDtoUSD():\n",
    "    pass\n",
    "    # TODO: Code function to Convert SGD to USD\n",
    "\n",
    "def convertUSDtoSGD():\n",
    "    pass \n",
    "    # TODO: Code function to Convert USD to SGD\n",
    "\n",
    "def displayMenu():\n",
    "    print(\"Select one of the options below:\")\n",
    "    print(\"1. Set Conversion Rate\")\n",
    "    print(\"2. Convert SGD to USD\")\n",
    "    print(\"3. Convert USD to SGD\")\n",
    "    print(\"4. Quit\")\n",
    "\n",
    "def main():\n",
    "    while True:\n",
    "        displayMenu()\n",
    "        choice = input(\"Input your choice: \")\n",
    "        print(\"Your choice was \" + choice)\n",
    "\n",
    "        if choice not in ['1', '2', '3', '4']:\n",
    "            print(\"Invalid Input! Please try again.\")\n",
    "            choice = input(\"Input your choice: \")\n",
    "\n",
    "        elif choice == '1':\n",
    "            conversionRate = setConversionRate()\n",
    "            \n",
    "        elif choice == '2':\n",
    "            convertSGDtoUSD()       \n",
    "        \n",
    "        elif choice == '3': \n",
    "            convertUSDtoSGD()\n",
    "        \n",
    "        elif choice == '4':\n",
    "            print(\"Exiting...\")\n",
    "            break\n",
    "\n",
    "main()"
   ]
  },
  {
   "cell_type": "markdown",
   "id": "862f34cc-9d95-4f9e-96f3-db4408f61f0a",
   "metadata": {},
   "source": [
    "## Task 1 Answer"
   ]
  },
  {
   "cell_type": "code",
   "execution_count": 12,
   "id": "9e73c4c5-4d60-418d-9840-f6eb99f8ed6b",
   "metadata": {},
   "outputs": [
    {
     "name": "stdout",
     "output_type": "stream",
     "text": [
      "Select one of the options below:\n",
      "1. Set Conversion Rate\n",
      "2. Convert SGD to USD\n",
      "3. Convert USD to SGD\n",
      "4. Quit\n"
     ]
    },
    {
     "name": "stdout",
     "output_type": "stream",
     "text": [
      "Input your choice:  1\n"
     ]
    },
    {
     "name": "stdout",
     "output_type": "stream",
     "text": [
      "Your choice was 1\n",
      " \n"
     ]
    },
    {
     "name": "stdout",
     "output_type": "stream",
     "text": [
      "Enter the current conversion rate:  1.34\n"
     ]
    },
    {
     "name": "stdout",
     "output_type": "stream",
     "text": [
      "Currency conversion rate updated. \n",
      " \n",
      "Select one of the options below:\n",
      "1. Set Conversion Rate\n",
      "2. Convert SGD to USD\n",
      "3. Convert USD to SGD\n",
      "4. Quit\n"
     ]
    },
    {
     "name": "stdout",
     "output_type": "stream",
     "text": [
      "Input your choice:  3\n"
     ]
    },
    {
     "name": "stdout",
     "output_type": "stream",
     "text": [
      "Your choice was 3\n",
      " \n"
     ]
    },
    {
     "name": "stdout",
     "output_type": "stream",
     "text": [
      "Enter the amount of USD:  298.50\n"
     ]
    },
    {
     "name": "stdout",
     "output_type": "stream",
     "text": [
      "The amount of SGD is: 399.99\n",
      " \n",
      "Select one of the options below:\n",
      "1. Set Conversion Rate\n",
      "2. Convert SGD to USD\n",
      "3. Convert USD to SGD\n",
      "4. Quit\n"
     ]
    },
    {
     "name": "stdout",
     "output_type": "stream",
     "text": [
      "Input your choice:  4\n"
     ]
    },
    {
     "name": "stdout",
     "output_type": "stream",
     "text": [
      "Your choice was 4\n",
      "Exiting...\n"
     ]
    }
   ],
   "source": [
    "def setConversionRate():\n",
    "    print(\" \")\n",
    "    conversionRate = float(input(\"Enter the current conversion rate: \"))\n",
    "    print(\"Currency conversion rate updated. \")\n",
    "    print(\" \")\n",
    "    return conversionRate\n",
    "\n",
    "def convertSGDtoUSD(conversionRate):\n",
    "    print(\" \")\n",
    "    amountSGD = input(\"Enter the amount of SGD: \")\n",
    "    amountUSD = float(amountSGD) / conversionRate\n",
    "    print(\"The amount of USD is: \" + str(amountUSD))\n",
    "    print(\" \")\n",
    "\n",
    "def convertUSDtoSGD(conversionRate):\n",
    "    print(\" \")\n",
    "    amountUSD = input(\"Enter the amount of USD: \")\n",
    "    amountSGD = float(amountUSD) * conversionRate\n",
    "    print(\"The amount of SGD is: \" + str(amountSGD))\n",
    "    print(\" \")\n",
    "\n",
    "def displayMenu():\n",
    "    print(\"Select one of the options below:\")\n",
    "    print(\"1. Set Conversion Rate\")\n",
    "    print(\"2. Convert SGD to USD\")\n",
    "    print(\"3. Convert USD to SGD\")\n",
    "    print(\"4. Quit\")\n",
    "\n",
    "def main():\n",
    "    conversionRate = 1\n",
    "    while True:\n",
    "        displayMenu()\n",
    "        choice = input(\"Input your choice: \")\n",
    "        print(\"Your choice was \" + choice)\n",
    "\n",
    "        if choice not in ['1', '2', '3', '4']:\n",
    "            print(\"Invalid Input! Please try again.\")\n",
    "            choice = input(\"Input your choice: \")\n",
    "\n",
    "        elif choice == '1':\n",
    "            conversionRate = setConversionRate()\n",
    "            \n",
    "        elif choice == '2':\n",
    "            convertSGDtoUSD(conversionRate)       \n",
    "        \n",
    "        elif choice == '3': \n",
    "            convertUSDtoSGD(conversionRate)\n",
    "        \n",
    "        elif choice == '4':\n",
    "            print(\"Exiting...\")\n",
    "            break\n",
    "\n",
    "main()"
   ]
  },
  {
   "cell_type": "markdown",
   "id": "45e4f541-e5a0-4d0e-8419-d984cd9911f7",
   "metadata": {},
   "source": [
    "## Follow-up Questions\n",
    "\n",
    "1. The above code assumes that the user sets the conversion rate before converting currencies to ensure that the conversion is accurate. How can you edit the code such that the user would not get a wrong conversion amount when they try to convert currencies without first setting the conversion rate?\n",
    "\n",
    "2. The above code assumes that the user will give numbers when asked to input the amount of SGD or USD. How do you edit the code such that the program does not end with an error when a user inputs letters by mistake?"
   ]
  },
  {
   "cell_type": "markdown",
   "id": "9b339b1a-cd3c-40ca-929b-5e5cd9a2b7cb",
   "metadata": {},
   "source": [
    "## Enrichment：How do we create a program that automatically knows the conversion rates by searching online?\n",
    "\n",
    "We can use external modules that help us do just that!"
   ]
  },
  {
   "cell_type": "code",
   "execution_count": null,
   "id": "73cbb539-efc6-4a4d-887d-1a06f7c28366",
   "metadata": {},
   "outputs": [],
   "source": [
    "import requests\n",
    "from bs4 import BeautifulSoup\n",
    "\n",
    "def setCurrencyConversion():\n",
    "    print(\" \")\n",
    "    url = \"https://www.xe.com/currencyconverter/convert/?Amount=1&From=USD&To=SGD\"\n",
    "    response = requests.get(url)\n",
    "\n",
    "    if response.status_code == 200:\n",
    "        html_content = response.text\n",
    "\n",
    "        # Parse the HTML content\n",
    "        soup = BeautifulSoup(html_content, 'html.parser')\n",
    "\n",
    "        element = soup.find('p', class_='sc-63d8b7e3-1 bMdPIi')  # Replace 'class-name' with the actual class\n",
    "        conversionRate = float(element.text[0:9])\n",
    "        print(\"Success. Conversion Rate is \" + str(conversionRate))\n",
    "        return conversionRate\n",
    "\n",
    "    else:\n",
    "        print(\"Failed to retrieve the webpage. Conversion Rate set to 1 by default\")\n",
    "        return 1\n",
    "\n",
    "def convertSGDtoUSD(conversionRate):\n",
    "    print(\" \")\n",
    "    amountSGD = input(\"Enter the amount of SGD: \")\n",
    "    amountUSD = int(amountSGD) / conversionRate\n",
    "    print(\"The amount of USD is: \" + str(amountUSD))\n",
    "    print(\" \")\n",
    "\n",
    "\n",
    "def convertUSDtoSGD():\n",
    "    # TODO: CODE FUNCTION\n",
    "    return 0\n",
    "\n",
    "def displayMenu():\n",
    "    print(\" \")\n",
    "    print(\"Welcome!\")\n",
    "    print(\" \")\n",
    "    print(\"What would you like to do today?\")\n",
    "    print(\"1: Set Currency Conversion Rate\")\n",
    "    print(\"2: Convert SGD to USD\")\n",
    "    print(\"3: Quit\")\n",
    "\n",
    "def main():\n",
    "    choice = 0\n",
    "    while choice < 3:\n",
    "        displayMenu()\n",
    "        inputString = input(\"Input number: \")\n",
    "        try:\n",
    "            choice = int(inputString)\n",
    "        except:\n",
    "            print(\"input must be an integer!\")\n",
    "            print(\" \")\n",
    "\n",
    "        if choice is 1:\n",
    "            conversionRate = setCurrencyConversion()\n",
    "        elif choice is 2:\n",
    "            convertSGDtoUSD(conversionRate)\n",
    "        elif choice is 3:\n",
    "            print(\" \")\n",
    "            print(\"Exiting... \")\n",
    "            print(\" \")\n",
    "\n",
    "main()"
   ]
  },
  {
   "cell_type": "markdown",
   "id": "c48326b1-77d7-40cf-81d8-db4594f9f717",
   "metadata": {},
   "source": [
    "## We can even take a step further!\n",
    "\n",
    "By editing the address of the website, we can even decide what currencies to convert from and what currencies to convert into!"
   ]
  },
  {
   "cell_type": "code",
   "execution_count": 14,
   "id": "40882954-0298-48a8-8c11-0628b21d97ca",
   "metadata": {},
   "outputs": [
    {
     "name": "stdout",
     "output_type": "stream",
     "text": [
      " \n",
      "Welcome!\n",
      " \n",
      "What would you like to do today?\n",
      "1: Set Currency Conversion Rate\n",
      "2: Quit\n"
     ]
    },
    {
     "name": "stdout",
     "output_type": "stream",
     "text": [
      "Input number:  1\n"
     ]
    },
    {
     "name": "stdout",
     "output_type": "stream",
     "text": [
      " \n"
     ]
    },
    {
     "name": "stdout",
     "output_type": "stream",
     "text": [
      "Input the starting currency (Eg: SGD, USD, EUR):  SGD\n",
      "Input the currency to convert into (Eg: SGD, USD, EUR):  USD\n",
      "Input amount of starting currency:  1\n"
     ]
    },
    {
     "name": "stdout",
     "output_type": "stream",
     "text": [
      "Success. 1 SGD is converted into 0.7448574 USD. \n",
      " \n",
      "Welcome!\n",
      " \n",
      "What would you like to do today?\n",
      "1: Set Currency Conversion Rate\n",
      "2: Quit\n"
     ]
    },
    {
     "name": "stdout",
     "output_type": "stream",
     "text": [
      "Input number:  2\n"
     ]
    },
    {
     "name": "stdout",
     "output_type": "stream",
     "text": [
      " \n",
      "Exiting... \n",
      " \n"
     ]
    }
   ],
   "source": [
    "import requests\n",
    "from bs4 import BeautifulSoup\n",
    "\n",
    "def convertCurrency():\n",
    "    print(\" \")\n",
    "    startingCurrency = input(\"Input the starting currency (Eg: SGD, USD, EUR): \")\n",
    "    endingCurrency = input(\"Input the currency to convert into (Eg: SGD, USD, EUR): \")\n",
    "    amount = input(\"Input amount of starting currency: \")\n",
    "    \n",
    "    url = \"https://www.xe.com/currencyconverter/convert/?Amount=\" + amount + \"&From=\" + startingCurrency + \"&To=\" + endingCurrency\n",
    "    response = requests.get(url)\n",
    "\n",
    "    if response.status_code == 200:\n",
    "        html_content = response.text\n",
    "\n",
    "        # Parse the HTML content\n",
    "        soup = BeautifulSoup(html_content, 'html.parser')\n",
    "\n",
    "        element = soup.find('p', class_='sc-63d8b7e3-1 bMdPIi')  # Replace 'class-name' with the actual class\n",
    "        conversionRate = float(element.text[0:9])\n",
    "        print(\"Success. \" + amount + \" \" + startingCurrency + \" is converted into \" + str(conversionRate) + \" \" + endingCurrency + \". \")\n",
    "        return conversionRate\n",
    " \n",
    "    else:\n",
    "        print(\"Failed to retrieve the webpage. Failed to convert currency. \")\n",
    "        return 1\n",
    "\n",
    "def displayMenu():\n",
    "    print(\" \")\n",
    "    print(\"Welcome!\")\n",
    "    print(\" \")\n",
    "    print(\"What would you like to do today?\")\n",
    "    print(\"1: Set Currency Conversion Rate\")\n",
    "    print(\"2: Quit\")\n",
    "\n",
    "def main():\n",
    "    choice = 0\n",
    "    while choice < 2:\n",
    "        displayMenu()\n",
    "        inputString = input(\"Input number: \")\n",
    "        try:\n",
    "            choice = int(inputString)\n",
    "        except:\n",
    "            print(\"input must be an integer!\")\n",
    "            print(\" \")\n",
    "\n",
    "        if choice == 1:\n",
    "            convertCurrency()\n",
    "        elif choice == 2:\n",
    "            print(\" \")\n",
    "            print(\"Exiting... \")\n",
    "            print(\" \")\n",
    "\n",
    "main()"
   ]
  },
  {
   "cell_type": "markdown",
   "id": "830d0111-f1ae-42f9-82f1-0b9d0439c192",
   "metadata": {},
   "source": [
    "## Key Takeaway\n",
    "\n",
    "If used masterfully, we can get Python to automate tasks, helping us with various daily tasks!"
   ]
  },
  {
   "cell_type": "code",
   "execution_count": null,
   "id": "a8db57fb-58c2-4ecc-a69a-bb84ea9f988e",
   "metadata": {},
   "outputs": [],
   "source": []
  }
 ],
 "metadata": {
  "kernelspec": {
   "display_name": "Python 3 (ipykernel)",
   "language": "python",
   "name": "python3"
  },
  "language_info": {
   "codemirror_mode": {
    "name": "ipython",
    "version": 3
   },
   "file_extension": ".py",
   "mimetype": "text/x-python",
   "name": "python",
   "nbconvert_exporter": "python",
   "pygments_lexer": "ipython3",
   "version": "3.11.5"
  }
 },
 "nbformat": 4,
 "nbformat_minor": 5
}
